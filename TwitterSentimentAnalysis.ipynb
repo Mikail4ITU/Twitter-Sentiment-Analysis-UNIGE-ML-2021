{
 "cells": [
  {
   "cell_type": "markdown",
   "metadata": {},
   "source": [
    "<img src=\"img/Geneva_School_of_Economics_and_Management.png\"/>"
   ]
  },
  {
   "cell_type": "markdown",
   "metadata": {},
   "source": [
    "# Machine Learning 2021 Final Project Notebook\n",
    "## Written by Karen Manukyan & Mikail Kurt\n",
    "\n",
    "In this project we worked on text data which was taken from social media platform Twitter. The train data has 1280000 tweets with 7 columns. The test data includes 320000 tweets and 6 columns. The only difference from train data is test data does not include the emotion column about corresponding tweet.\n",
    "\n",
    "Content of Notebook\n",
    "- Reading Datasets <br>\n",
    "- Exploratory Data Analysis <br>\n",
    "- Data Visualization <br>\n",
    "- Data Cleaning <br>\n",
    "- Tokenization <br>\n",
    "- Implementation of Machine Learning Algortihms <br>\n",
    "- Conclusion "
   ]
  },
  {
   "cell_type": "markdown",
   "metadata": {},
   "source": [
    "# Importing Libraries"
   ]
  },
  {
   "cell_type": "code",
   "execution_count": 51,
   "metadata": {},
   "outputs": [],
   "source": [
    "# import numpy as np # linear algebra\n",
    "import pandas as pd # data processing, CSV file I/O (e.g. pd.read_csv)\n",
    "import matplotlib.pyplot as plt\n",
    "import numpy as np\n",
    "import re #regex operations\n",
    "import contractions #expanding contractions\n",
    "import nltk\n",
    "from scipy.sparse import hstack\n",
    "from nltk.corpus import stopwords\n",
    "from wordcloud import WordCloud\n",
    "from nltk.stem import WordNetLemmatizer\n",
    "from sklearn.feature_extraction.text import TfidfTransformer, TfidfVectorizer\n",
    "from sklearn.linear_model import LogisticRegression\n",
    "from sklearn.svm import LinearSVC\n",
    "from sklearn.model_selection import train_test_split, GridSearchCV, KFold, cross_val_score\n",
    "from sklearn.ensemble import AdaBoostClassifier, BaggingClassifier, GradientBoostingClassifier\n",
    "from sklearn.pipeline import Pipeline\n",
    "from sklearn.metrics import accuracy_score\n"
   ]
  },
  {
   "cell_type": "markdown",
   "metadata": {},
   "source": [
    "# Reading Dataset"
   ]
  },
  {
   "cell_type": "markdown",
   "metadata": {},
   "source": [
    "traindf = pd.read_csv(\"MLUnige2021_train.csv\")\n",
    "testdf = pd.read_csv(\"MLUnige2021_test.csv\")"
   ]
  },
  {
   "cell_type": "markdown",
   "metadata": {},
   "source": [
    "## Exploratory Data Analysis"
   ]
  },
  {
   "cell_type": "markdown",
   "metadata": {},
   "source": [
    "#### We will use the date, emotion and text column for analyze and training machine learning algorithms."
   ]
  },
  {
   "cell_type": "code",
   "execution_count": 3,
   "metadata": {},
   "outputs": [
    {
     "data": {
      "text/html": [
       "<div>\n",
       "<style scoped>\n",
       "    .dataframe tbody tr th:only-of-type {\n",
       "        vertical-align: middle;\n",
       "    }\n",
       "\n",
       "    .dataframe tbody tr th {\n",
       "        vertical-align: top;\n",
       "    }\n",
       "\n",
       "    .dataframe thead th {\n",
       "        text-align: right;\n",
       "    }\n",
       "</style>\n",
       "<table border=\"1\" class=\"dataframe\">\n",
       "  <thead>\n",
       "    <tr style=\"text-align: right;\">\n",
       "      <th></th>\n",
       "      <th>Id</th>\n",
       "      <th>emotion</th>\n",
       "      <th>tweet_id</th>\n",
       "      <th>date</th>\n",
       "      <th>lyx_query</th>\n",
       "      <th>user</th>\n",
       "      <th>text</th>\n",
       "    </tr>\n",
       "  </thead>\n",
       "  <tbody>\n",
       "    <tr>\n",
       "      <th>0</th>\n",
       "      <td>0</td>\n",
       "      <td>1</td>\n",
       "      <td>2063391019</td>\n",
       "      <td>Sun Jun 07 02:28:13 PDT 2009</td>\n",
       "      <td>NO_QUERY</td>\n",
       "      <td>BerryGurus</td>\n",
       "      <td>@BreeMe more time to play with you BlackBerry ...</td>\n",
       "    </tr>\n",
       "    <tr>\n",
       "      <th>1</th>\n",
       "      <td>1</td>\n",
       "      <td>0</td>\n",
       "      <td>2000525676</td>\n",
       "      <td>Mon Jun 01 22:18:53 PDT 2009</td>\n",
       "      <td>NO_QUERY</td>\n",
       "      <td>peterlanoie</td>\n",
       "      <td>Failed attempt at booting to a flash drive. Th...</td>\n",
       "    </tr>\n",
       "    <tr>\n",
       "      <th>2</th>\n",
       "      <td>2</td>\n",
       "      <td>0</td>\n",
       "      <td>2218180611</td>\n",
       "      <td>Wed Jun 17 22:01:38 PDT 2009</td>\n",
       "      <td>NO_QUERY</td>\n",
       "      <td>will_tooker</td>\n",
       "      <td>@msproductions Well ain't that the truth. Wher...</td>\n",
       "    </tr>\n",
       "    <tr>\n",
       "      <th>3</th>\n",
       "      <td>3</td>\n",
       "      <td>1</td>\n",
       "      <td>2190269101</td>\n",
       "      <td>Tue Jun 16 02:14:47 PDT 2009</td>\n",
       "      <td>NO_QUERY</td>\n",
       "      <td>sammutimer</td>\n",
       "      <td>@Meaghery cheers Craig - that was really sweet...</td>\n",
       "    </tr>\n",
       "    <tr>\n",
       "      <th>4</th>\n",
       "      <td>4</td>\n",
       "      <td>0</td>\n",
       "      <td>2069249490</td>\n",
       "      <td>Sun Jun 07 15:31:58 PDT 2009</td>\n",
       "      <td>NO_QUERY</td>\n",
       "      <td>ohaijustin</td>\n",
       "      <td>I was reading the tweets that got send to me w...</td>\n",
       "    </tr>\n",
       "  </tbody>\n",
       "</table>\n",
       "</div>"
      ],
      "text/plain": [
       "   Id  emotion    tweet_id                          date lyx_query  \\\n",
       "0   0        1  2063391019  Sun Jun 07 02:28:13 PDT 2009  NO_QUERY   \n",
       "1   1        0  2000525676  Mon Jun 01 22:18:53 PDT 2009  NO_QUERY   \n",
       "2   2        0  2218180611  Wed Jun 17 22:01:38 PDT 2009  NO_QUERY   \n",
       "3   3        1  2190269101  Tue Jun 16 02:14:47 PDT 2009  NO_QUERY   \n",
       "4   4        0  2069249490  Sun Jun 07 15:31:58 PDT 2009  NO_QUERY   \n",
       "\n",
       "          user                                               text  \n",
       "0   BerryGurus  @BreeMe more time to play with you BlackBerry ...  \n",
       "1  peterlanoie  Failed attempt at booting to a flash drive. Th...  \n",
       "2  will_tooker  @msproductions Well ain't that the truth. Wher...  \n",
       "3   sammutimer  @Meaghery cheers Craig - that was really sweet...  \n",
       "4   ohaijustin  I was reading the tweets that got send to me w...  "
      ]
     },
     "execution_count": 3,
     "metadata": {},
     "output_type": "execute_result"
    }
   ],
   "source": [
    "traindf.head() #Displaying first 5 rows of train data"
   ]
  },
  {
   "cell_type": "code",
   "execution_count": 4,
   "metadata": {},
   "outputs": [
    {
     "data": {
      "text/html": [
       "<div>\n",
       "<style scoped>\n",
       "    .dataframe tbody tr th:only-of-type {\n",
       "        vertical-align: middle;\n",
       "    }\n",
       "\n",
       "    .dataframe tbody tr th {\n",
       "        vertical-align: top;\n",
       "    }\n",
       "\n",
       "    .dataframe thead th {\n",
       "        text-align: right;\n",
       "    }\n",
       "</style>\n",
       "<table border=\"1\" class=\"dataframe\">\n",
       "  <thead>\n",
       "    <tr style=\"text-align: right;\">\n",
       "      <th></th>\n",
       "      <th>Id</th>\n",
       "      <th>tweet_id</th>\n",
       "      <th>date</th>\n",
       "      <th>lyx_query</th>\n",
       "      <th>user</th>\n",
       "      <th>text</th>\n",
       "    </tr>\n",
       "  </thead>\n",
       "  <tbody>\n",
       "    <tr>\n",
       "      <th>319995</th>\n",
       "      <td>319995</td>\n",
       "      <td>1687217037</td>\n",
       "      <td>Sun May 03 08:05:48 PDT 2009</td>\n",
       "      <td>NO_QUERY</td>\n",
       "      <td>brianwperry</td>\n",
       "      <td>@davidgregory How is it that MTP isn't in HiDe...</td>\n",
       "    </tr>\n",
       "    <tr>\n",
       "      <th>319996</th>\n",
       "      <td>319996</td>\n",
       "      <td>2177859733</td>\n",
       "      <td>Mon Jun 15 06:49:14 PDT 2009</td>\n",
       "      <td>NO_QUERY</td>\n",
       "      <td>sp2peepee</td>\n",
       "      <td>im thinking about this long shot for a long ti...</td>\n",
       "    </tr>\n",
       "    <tr>\n",
       "      <th>319997</th>\n",
       "      <td>319997</td>\n",
       "      <td>1956949575</td>\n",
       "      <td>Thu May 28 23:06:24 PDT 2009</td>\n",
       "      <td>NO_QUERY</td>\n",
       "      <td>essential_e</td>\n",
       "      <td>@meg___ i feel so old.. i'll be 22 in september</td>\n",
       "    </tr>\n",
       "    <tr>\n",
       "      <th>319998</th>\n",
       "      <td>319998</td>\n",
       "      <td>2015389809</td>\n",
       "      <td>Wed Jun 03 04:32:05 PDT 2009</td>\n",
       "      <td>NO_QUERY</td>\n",
       "      <td>gretadelonge</td>\n",
       "      <td>watching supernatural ahah poor they. in jail</td>\n",
       "    </tr>\n",
       "    <tr>\n",
       "      <th>319999</th>\n",
       "      <td>319999</td>\n",
       "      <td>2231627501</td>\n",
       "      <td>Thu Jun 18 18:48:44 PDT 2009</td>\n",
       "      <td>NO_QUERY</td>\n",
       "      <td>FourbyFord</td>\n",
       "      <td>@queenmisha but you're not following me</td>\n",
       "    </tr>\n",
       "  </tbody>\n",
       "</table>\n",
       "</div>"
      ],
      "text/plain": [
       "            Id    tweet_id                          date lyx_query  \\\n",
       "319995  319995  1687217037  Sun May 03 08:05:48 PDT 2009  NO_QUERY   \n",
       "319996  319996  2177859733  Mon Jun 15 06:49:14 PDT 2009  NO_QUERY   \n",
       "319997  319997  1956949575  Thu May 28 23:06:24 PDT 2009  NO_QUERY   \n",
       "319998  319998  2015389809  Wed Jun 03 04:32:05 PDT 2009  NO_QUERY   \n",
       "319999  319999  2231627501  Thu Jun 18 18:48:44 PDT 2009  NO_QUERY   \n",
       "\n",
       "                user                                               text  \n",
       "319995   brianwperry  @davidgregory How is it that MTP isn't in HiDe...  \n",
       "319996     sp2peepee  im thinking about this long shot for a long ti...  \n",
       "319997   essential_e   @meg___ i feel so old.. i'll be 22 in september   \n",
       "319998  gretadelonge     watching supernatural ahah poor they. in jail   \n",
       "319999    FourbyFord           @queenmisha but you're not following me   "
      ]
     },
     "execution_count": 4,
     "metadata": {},
     "output_type": "execute_result"
    }
   ],
   "source": [
    "testdf.tail() #Displaying last 5 rows of test data"
   ]
  },
  {
   "cell_type": "code",
   "execution_count": 5,
   "metadata": {},
   "outputs": [
    {
     "name": "stdout",
     "output_type": "stream",
     "text": [
      "The shape of train data is:  (1280000, 7)\n",
      "The shape of test data is:  (320000, 6)\n"
     ]
    }
   ],
   "source": [
    "print(\"The shape of train data is: \",traindf.shape)\n",
    "print(\"The shape of test data is: \",testdf.shape)"
   ]
  },
  {
   "cell_type": "code",
   "execution_count": 6,
   "metadata": {},
   "outputs": [
    {
     "name": "stdout",
     "output_type": "stream",
     "text": [
      "<class 'pandas.core.frame.DataFrame'>\n",
      "RangeIndex: 1280000 entries, 0 to 1279999\n",
      "Data columns (total 7 columns):\n",
      " #   Column     Non-Null Count    Dtype \n",
      "---  ------     --------------    ----- \n",
      " 0   Id         1280000 non-null  int64 \n",
      " 1   emotion    1280000 non-null  int64 \n",
      " 2   tweet_id   1280000 non-null  int64 \n",
      " 3   date       1280000 non-null  object\n",
      " 4   lyx_query  1280000 non-null  object\n",
      " 5   user       1280000 non-null  object\n",
      " 6   text       1280000 non-null  object\n",
      "dtypes: int64(3), object(4)\n",
      "memory usage: 68.4+ MB\n"
     ]
    }
   ],
   "source": [
    "traindf.info() #There is no NA values in trainset"
   ]
  },
  {
   "cell_type": "code",
   "execution_count": 7,
   "metadata": {},
   "outputs": [
    {
     "name": "stdout",
     "output_type": "stream",
     "text": [
      "<class 'pandas.core.frame.DataFrame'>\n",
      "RangeIndex: 320000 entries, 0 to 319999\n",
      "Data columns (total 6 columns):\n",
      " #   Column     Non-Null Count   Dtype \n",
      "---  ------     --------------   ----- \n",
      " 0   Id         320000 non-null  int64 \n",
      " 1   tweet_id   320000 non-null  int64 \n",
      " 2   date       320000 non-null  object\n",
      " 3   lyx_query  320000 non-null  object\n",
      " 4   user       320000 non-null  object\n",
      " 5   text       320000 non-null  object\n",
      "dtypes: int64(2), object(4)\n",
      "memory usage: 14.6+ MB\n"
     ]
    }
   ],
   "source": [
    "testdf.info() #there is no NA values in test "
   ]
  },
  {
   "cell_type": "markdown",
   "metadata": {},
   "source": [
    "#### The  length of negative tweets is slightly higher than positive tweets."
   ]
  },
  {
   "cell_type": "code",
   "execution_count": 8,
   "metadata": {},
   "outputs": [
    {
     "data": {
      "text/plain": [
       "emotion\n",
       "0    14.194970\n",
       "1    13.412232\n",
       "Name: text_len, dtype: float64"
      ]
     },
     "execution_count": 8,
     "metadata": {},
     "output_type": "execute_result"
    }
   ],
   "source": [
    "traindf['text_len'] =traindf['text'].apply(lambda x:len(re.findall(r'\\w+', x))) #finding length of text column\n",
    "traindf.groupby(by=[\"emotion\"])[\"text_len\"].mean() #the negative emotion tweets lenght is slightly higher than positive tweets"
   ]
  },
  {
   "cell_type": "markdown",
   "metadata": {},
   "source": [
    "#### The target variable is balanced in terms of class counts."
   ]
  },
  {
   "cell_type": "code",
   "execution_count": 66,
   "metadata": {},
   "outputs": [
    {
     "data": {
      "text/plain": [
       "1    640118\n",
       "0    639882\n",
       "Name: emotion, dtype: int64"
      ]
     },
     "execution_count": 66,
     "metadata": {},
     "output_type": "execute_result"
    }
   ],
   "source": [
    "traindf[\"emotion\"].value_counts()"
   ]
  },
  {
   "cell_type": "markdown",
   "metadata": {},
   "source": [
    "#### The lyx_query column has only NO_QUERY option."
   ]
  },
  {
   "cell_type": "code",
   "execution_count": 68,
   "metadata": {},
   "outputs": [
    {
     "data": {
      "text/plain": [
       "NO_QUERY    1280000\n",
       "Name: lyx_query, dtype: int64"
      ]
     },
     "execution_count": 68,
     "metadata": {},
     "output_type": "execute_result"
    }
   ],
   "source": [
    "traindf[\"lyx_query\"].value_counts()"
   ]
  },
  {
   "cell_type": "markdown",
   "metadata": {},
   "source": [
    "#### Expanding date columns for both train and test sets"
   ]
  },
  {
   "cell_type": "code",
   "execution_count": 9,
   "metadata": {},
   "outputs": [],
   "source": [
    "traindf[['Day of Week','Month','Day','Time','Time Zone','Year']]=traindf['date'].str.split(expand=True)\n",
    "traindf[['Day of Week','Month','Day','Time','Time Zone','Year']] =traindf[['Day of Week','Month','Day','Time','Time Zone','Year']].astype('category')\n",
    "testdf[['Day of Week','Month','Day','Time','Time Zone','Year']]=testdf['date'].str.split(expand=True)\n",
    "testdf[['Day of Week','Month','Day','Time','Time Zone','Year']] =testdf[['Day of Week','Month','Day','Time','Time Zone','Year']].astype('category')"
   ]
  },
  {
   "cell_type": "code",
   "execution_count": 10,
   "metadata": {},
   "outputs": [
    {
     "data": {
      "text/html": [
       "<div>\n",
       "<style scoped>\n",
       "    .dataframe tbody tr th:only-of-type {\n",
       "        vertical-align: middle;\n",
       "    }\n",
       "\n",
       "    .dataframe tbody tr th {\n",
       "        vertical-align: top;\n",
       "    }\n",
       "\n",
       "    .dataframe thead th {\n",
       "        text-align: right;\n",
       "    }\n",
       "</style>\n",
       "<table border=\"1\" class=\"dataframe\">\n",
       "  <thead>\n",
       "    <tr style=\"text-align: right;\">\n",
       "      <th></th>\n",
       "      <th>Id</th>\n",
       "      <th>emotion</th>\n",
       "      <th>tweet_id</th>\n",
       "      <th>date</th>\n",
       "      <th>lyx_query</th>\n",
       "      <th>user</th>\n",
       "      <th>text</th>\n",
       "      <th>text_len</th>\n",
       "      <th>Day of Week</th>\n",
       "      <th>Month</th>\n",
       "      <th>Day</th>\n",
       "      <th>Time</th>\n",
       "      <th>Time Zone</th>\n",
       "      <th>Year</th>\n",
       "    </tr>\n",
       "  </thead>\n",
       "  <tbody>\n",
       "    <tr>\n",
       "      <th>0</th>\n",
       "      <td>0</td>\n",
       "      <td>1</td>\n",
       "      <td>2063391019</td>\n",
       "      <td>Sun Jun 07 02:28:13 PDT 2009</td>\n",
       "      <td>NO_QUERY</td>\n",
       "      <td>BerryGurus</td>\n",
       "      <td>@BreeMe more time to play with you BlackBerry ...</td>\n",
       "      <td>9</td>\n",
       "      <td>Sun</td>\n",
       "      <td>Jun</td>\n",
       "      <td>07</td>\n",
       "      <td>02:28:13</td>\n",
       "      <td>PDT</td>\n",
       "      <td>2009</td>\n",
       "    </tr>\n",
       "    <tr>\n",
       "      <th>1</th>\n",
       "      <td>1</td>\n",
       "      <td>0</td>\n",
       "      <td>2000525676</td>\n",
       "      <td>Mon Jun 01 22:18:53 PDT 2009</td>\n",
       "      <td>NO_QUERY</td>\n",
       "      <td>peterlanoie</td>\n",
       "      <td>Failed attempt at booting to a flash drive. Th...</td>\n",
       "      <td>26</td>\n",
       "      <td>Mon</td>\n",
       "      <td>Jun</td>\n",
       "      <td>01</td>\n",
       "      <td>22:18:53</td>\n",
       "      <td>PDT</td>\n",
       "      <td>2009</td>\n",
       "    </tr>\n",
       "    <tr>\n",
       "      <th>2</th>\n",
       "      <td>2</td>\n",
       "      <td>0</td>\n",
       "      <td>2218180611</td>\n",
       "      <td>Wed Jun 17 22:01:38 PDT 2009</td>\n",
       "      <td>NO_QUERY</td>\n",
       "      <td>will_tooker</td>\n",
       "      <td>@msproductions Well ain't that the truth. Wher...</td>\n",
       "      <td>26</td>\n",
       "      <td>Wed</td>\n",
       "      <td>Jun</td>\n",
       "      <td>17</td>\n",
       "      <td>22:01:38</td>\n",
       "      <td>PDT</td>\n",
       "      <td>2009</td>\n",
       "    </tr>\n",
       "    <tr>\n",
       "      <th>3</th>\n",
       "      <td>3</td>\n",
       "      <td>1</td>\n",
       "      <td>2190269101</td>\n",
       "      <td>Tue Jun 16 02:14:47 PDT 2009</td>\n",
       "      <td>NO_QUERY</td>\n",
       "      <td>sammutimer</td>\n",
       "      <td>@Meaghery cheers Craig - that was really sweet...</td>\n",
       "      <td>14</td>\n",
       "      <td>Tue</td>\n",
       "      <td>Jun</td>\n",
       "      <td>16</td>\n",
       "      <td>02:14:47</td>\n",
       "      <td>PDT</td>\n",
       "      <td>2009</td>\n",
       "    </tr>\n",
       "    <tr>\n",
       "      <th>4</th>\n",
       "      <td>4</td>\n",
       "      <td>0</td>\n",
       "      <td>2069249490</td>\n",
       "      <td>Sun Jun 07 15:31:58 PDT 2009</td>\n",
       "      <td>NO_QUERY</td>\n",
       "      <td>ohaijustin</td>\n",
       "      <td>I was reading the tweets that got send to me w...</td>\n",
       "      <td>29</td>\n",
       "      <td>Sun</td>\n",
       "      <td>Jun</td>\n",
       "      <td>07</td>\n",
       "      <td>15:31:58</td>\n",
       "      <td>PDT</td>\n",
       "      <td>2009</td>\n",
       "    </tr>\n",
       "  </tbody>\n",
       "</table>\n",
       "</div>"
      ],
      "text/plain": [
       "   Id  emotion    tweet_id                          date lyx_query  \\\n",
       "0   0        1  2063391019  Sun Jun 07 02:28:13 PDT 2009  NO_QUERY   \n",
       "1   1        0  2000525676  Mon Jun 01 22:18:53 PDT 2009  NO_QUERY   \n",
       "2   2        0  2218180611  Wed Jun 17 22:01:38 PDT 2009  NO_QUERY   \n",
       "3   3        1  2190269101  Tue Jun 16 02:14:47 PDT 2009  NO_QUERY   \n",
       "4   4        0  2069249490  Sun Jun 07 15:31:58 PDT 2009  NO_QUERY   \n",
       "\n",
       "          user                                               text  text_len  \\\n",
       "0   BerryGurus  @BreeMe more time to play with you BlackBerry ...         9   \n",
       "1  peterlanoie  Failed attempt at booting to a flash drive. Th...        26   \n",
       "2  will_tooker  @msproductions Well ain't that the truth. Wher...        26   \n",
       "3   sammutimer  @Meaghery cheers Craig - that was really sweet...        14   \n",
       "4   ohaijustin  I was reading the tweets that got send to me w...        29   \n",
       "\n",
       "  Day of Week Month Day      Time Time Zone  Year  \n",
       "0         Sun   Jun  07  02:28:13       PDT  2009  \n",
       "1         Mon   Jun  01  22:18:53       PDT  2009  \n",
       "2         Wed   Jun  17  22:01:38       PDT  2009  \n",
       "3         Tue   Jun  16  02:14:47       PDT  2009  \n",
       "4         Sun   Jun  07  15:31:58       PDT  2009  "
      ]
     },
     "execution_count": 10,
     "metadata": {},
     "output_type": "execute_result"
    }
   ],
   "source": [
    "traindf.head()"
   ]
  },
  {
   "cell_type": "code",
   "execution_count": 11,
   "metadata": {},
   "outputs": [],
   "source": [
    "traindf[['Hour','Minutes','Seconds']]=traindf['Time'].str.split(\":\",expand=True)\n",
    "testdf[['Hour','Minutes','Seconds']]=testdf['Time'].str.split(\":\",expand=True)\n",
    "traindf = traindf.drop([\"Minutes\",\"Seconds\"],axis=1)\n",
    "testdf = testdf.drop([\"Minutes\",\"Seconds\"],axis=1)"
   ]
  },
  {
   "cell_type": "markdown",
   "metadata": {},
   "source": [
    " #### We will use expanded date column to see whether there will be an improvement in terms of accuracy"
   ]
  },
  {
   "cell_type": "code",
   "execution_count": 12,
   "metadata": {},
   "outputs": [
    {
     "data": {
      "text/html": [
       "<div>\n",
       "<style scoped>\n",
       "    .dataframe tbody tr th:only-of-type {\n",
       "        vertical-align: middle;\n",
       "    }\n",
       "\n",
       "    .dataframe tbody tr th {\n",
       "        vertical-align: top;\n",
       "    }\n",
       "\n",
       "    .dataframe thead th {\n",
       "        text-align: right;\n",
       "    }\n",
       "</style>\n",
       "<table border=\"1\" class=\"dataframe\">\n",
       "  <thead>\n",
       "    <tr style=\"text-align: right;\">\n",
       "      <th></th>\n",
       "      <th>Day of Week</th>\n",
       "      <th>Month</th>\n",
       "      <th>Day</th>\n",
       "      <th>Hour</th>\n",
       "    </tr>\n",
       "  </thead>\n",
       "  <tbody>\n",
       "    <tr>\n",
       "      <th>0</th>\n",
       "      <td>Sun</td>\n",
       "      <td>Jun</td>\n",
       "      <td>07</td>\n",
       "      <td>02</td>\n",
       "    </tr>\n",
       "    <tr>\n",
       "      <th>1</th>\n",
       "      <td>Mon</td>\n",
       "      <td>Jun</td>\n",
       "      <td>01</td>\n",
       "      <td>22</td>\n",
       "    </tr>\n",
       "    <tr>\n",
       "      <th>2</th>\n",
       "      <td>Wed</td>\n",
       "      <td>Jun</td>\n",
       "      <td>17</td>\n",
       "      <td>22</td>\n",
       "    </tr>\n",
       "    <tr>\n",
       "      <th>3</th>\n",
       "      <td>Tue</td>\n",
       "      <td>Jun</td>\n",
       "      <td>16</td>\n",
       "      <td>02</td>\n",
       "    </tr>\n",
       "    <tr>\n",
       "      <th>4</th>\n",
       "      <td>Sun</td>\n",
       "      <td>Jun</td>\n",
       "      <td>07</td>\n",
       "      <td>15</td>\n",
       "    </tr>\n",
       "  </tbody>\n",
       "</table>\n",
       "</div>"
      ],
      "text/plain": [
       "  Day of Week Month Day Hour\n",
       "0         Sun   Jun  07   02\n",
       "1         Mon   Jun  01   22\n",
       "2         Wed   Jun  17   22\n",
       "3         Tue   Jun  16   02\n",
       "4         Sun   Jun  07   15"
      ]
     },
     "execution_count": 12,
     "metadata": {},
     "output_type": "execute_result"
    }
   ],
   "source": [
    "newtraindf= traindf[[\"Day of Week\",\"Month\",\"Day\",\"Hour\"]]\n",
    "newtestdf= testdf[[\"Day of Week\",\"Month\",\"Day\",\"Hour\"]]\n",
    "newtraindf.head()"
   ]
  },
  {
   "cell_type": "code",
   "execution_count": 13,
   "metadata": {},
   "outputs": [
    {
     "data": {
      "text/html": [
       "<div>\n",
       "<style scoped>\n",
       "    .dataframe tbody tr th:only-of-type {\n",
       "        vertical-align: middle;\n",
       "    }\n",
       "\n",
       "    .dataframe tbody tr th {\n",
       "        vertical-align: top;\n",
       "    }\n",
       "\n",
       "    .dataframe thead th {\n",
       "        text-align: right;\n",
       "    }\n",
       "</style>\n",
       "<table border=\"1\" class=\"dataframe\">\n",
       "  <thead>\n",
       "    <tr style=\"text-align: right;\">\n",
       "      <th></th>\n",
       "      <th>Day of Week</th>\n",
       "      <th>Month</th>\n",
       "      <th>Day</th>\n",
       "      <th>Hour</th>\n",
       "    </tr>\n",
       "  </thead>\n",
       "  <tbody>\n",
       "    <tr>\n",
       "      <th>0</th>\n",
       "      <td>Tue</td>\n",
       "      <td>Jun</td>\n",
       "      <td>02</td>\n",
       "      <td>22</td>\n",
       "    </tr>\n",
       "    <tr>\n",
       "      <th>1</th>\n",
       "      <td>Mon</td>\n",
       "      <td>Jun</td>\n",
       "      <td>01</td>\n",
       "      <td>18</td>\n",
       "    </tr>\n",
       "    <tr>\n",
       "      <th>2</th>\n",
       "      <td>Sun</td>\n",
       "      <td>May</td>\n",
       "      <td>03</td>\n",
       "      <td>22</td>\n",
       "    </tr>\n",
       "    <tr>\n",
       "      <th>3</th>\n",
       "      <td>Fri</td>\n",
       "      <td>May</td>\n",
       "      <td>22</td>\n",
       "      <td>07</td>\n",
       "    </tr>\n",
       "    <tr>\n",
       "      <th>4</th>\n",
       "      <td>Sun</td>\n",
       "      <td>Jun</td>\n",
       "      <td>21</td>\n",
       "      <td>09</td>\n",
       "    </tr>\n",
       "  </tbody>\n",
       "</table>\n",
       "</div>"
      ],
      "text/plain": [
       "  Day of Week Month Day Hour\n",
       "0         Tue   Jun  02   22\n",
       "1         Mon   Jun  01   18\n",
       "2         Sun   May  03   22\n",
       "3         Fri   May  22   07\n",
       "4         Sun   Jun  21   09"
      ]
     },
     "execution_count": 13,
     "metadata": {},
     "output_type": "execute_result"
    }
   ],
   "source": [
    "newtestdf.head()"
   ]
  },
  {
   "cell_type": "markdown",
   "metadata": {},
   "source": [
    "#### We dummified values in expanded date column."
   ]
  },
  {
   "cell_type": "code",
   "execution_count": 14,
   "metadata": {},
   "outputs": [
    {
     "data": {
      "text/html": [
       "<div>\n",
       "<style scoped>\n",
       "    .dataframe tbody tr th:only-of-type {\n",
       "        vertical-align: middle;\n",
       "    }\n",
       "\n",
       "    .dataframe tbody tr th {\n",
       "        vertical-align: top;\n",
       "    }\n",
       "\n",
       "    .dataframe thead th {\n",
       "        text-align: right;\n",
       "    }\n",
       "</style>\n",
       "<table border=\"1\" class=\"dataframe\">\n",
       "  <thead>\n",
       "    <tr style=\"text-align: right;\">\n",
       "      <th></th>\n",
       "      <th>Day of Week_Mon</th>\n",
       "      <th>Day of Week_Sat</th>\n",
       "      <th>Day of Week_Sun</th>\n",
       "      <th>Day of Week_Thu</th>\n",
       "      <th>Day of Week_Tue</th>\n",
       "      <th>Day of Week_Wed</th>\n",
       "      <th>Month_Jun</th>\n",
       "      <th>Month_May</th>\n",
       "      <th>Day_02</th>\n",
       "      <th>Day_03</th>\n",
       "      <th>...</th>\n",
       "      <th>Hour_14</th>\n",
       "      <th>Hour_15</th>\n",
       "      <th>Hour_16</th>\n",
       "      <th>Hour_17</th>\n",
       "      <th>Hour_18</th>\n",
       "      <th>Hour_19</th>\n",
       "      <th>Hour_20</th>\n",
       "      <th>Hour_21</th>\n",
       "      <th>Hour_22</th>\n",
       "      <th>Hour_23</th>\n",
       "    </tr>\n",
       "  </thead>\n",
       "  <tbody>\n",
       "    <tr>\n",
       "      <th>0</th>\n",
       "      <td>0</td>\n",
       "      <td>0</td>\n",
       "      <td>1</td>\n",
       "      <td>0</td>\n",
       "      <td>0</td>\n",
       "      <td>0</td>\n",
       "      <td>1</td>\n",
       "      <td>0</td>\n",
       "      <td>0</td>\n",
       "      <td>0</td>\n",
       "      <td>...</td>\n",
       "      <td>0</td>\n",
       "      <td>0</td>\n",
       "      <td>0</td>\n",
       "      <td>0</td>\n",
       "      <td>0</td>\n",
       "      <td>0</td>\n",
       "      <td>0</td>\n",
       "      <td>0</td>\n",
       "      <td>0</td>\n",
       "      <td>0</td>\n",
       "    </tr>\n",
       "    <tr>\n",
       "      <th>1</th>\n",
       "      <td>1</td>\n",
       "      <td>0</td>\n",
       "      <td>0</td>\n",
       "      <td>0</td>\n",
       "      <td>0</td>\n",
       "      <td>0</td>\n",
       "      <td>1</td>\n",
       "      <td>0</td>\n",
       "      <td>0</td>\n",
       "      <td>0</td>\n",
       "      <td>...</td>\n",
       "      <td>0</td>\n",
       "      <td>0</td>\n",
       "      <td>0</td>\n",
       "      <td>0</td>\n",
       "      <td>0</td>\n",
       "      <td>0</td>\n",
       "      <td>0</td>\n",
       "      <td>0</td>\n",
       "      <td>1</td>\n",
       "      <td>0</td>\n",
       "    </tr>\n",
       "    <tr>\n",
       "      <th>2</th>\n",
       "      <td>0</td>\n",
       "      <td>0</td>\n",
       "      <td>0</td>\n",
       "      <td>0</td>\n",
       "      <td>0</td>\n",
       "      <td>1</td>\n",
       "      <td>1</td>\n",
       "      <td>0</td>\n",
       "      <td>0</td>\n",
       "      <td>0</td>\n",
       "      <td>...</td>\n",
       "      <td>0</td>\n",
       "      <td>0</td>\n",
       "      <td>0</td>\n",
       "      <td>0</td>\n",
       "      <td>0</td>\n",
       "      <td>0</td>\n",
       "      <td>0</td>\n",
       "      <td>0</td>\n",
       "      <td>1</td>\n",
       "      <td>0</td>\n",
       "    </tr>\n",
       "    <tr>\n",
       "      <th>3</th>\n",
       "      <td>0</td>\n",
       "      <td>0</td>\n",
       "      <td>0</td>\n",
       "      <td>0</td>\n",
       "      <td>1</td>\n",
       "      <td>0</td>\n",
       "      <td>1</td>\n",
       "      <td>0</td>\n",
       "      <td>0</td>\n",
       "      <td>0</td>\n",
       "      <td>...</td>\n",
       "      <td>0</td>\n",
       "      <td>0</td>\n",
       "      <td>0</td>\n",
       "      <td>0</td>\n",
       "      <td>0</td>\n",
       "      <td>0</td>\n",
       "      <td>0</td>\n",
       "      <td>0</td>\n",
       "      <td>0</td>\n",
       "      <td>0</td>\n",
       "    </tr>\n",
       "    <tr>\n",
       "      <th>4</th>\n",
       "      <td>0</td>\n",
       "      <td>0</td>\n",
       "      <td>1</td>\n",
       "      <td>0</td>\n",
       "      <td>0</td>\n",
       "      <td>0</td>\n",
       "      <td>1</td>\n",
       "      <td>0</td>\n",
       "      <td>0</td>\n",
       "      <td>0</td>\n",
       "      <td>...</td>\n",
       "      <td>0</td>\n",
       "      <td>1</td>\n",
       "      <td>0</td>\n",
       "      <td>0</td>\n",
       "      <td>0</td>\n",
       "      <td>0</td>\n",
       "      <td>0</td>\n",
       "      <td>0</td>\n",
       "      <td>0</td>\n",
       "      <td>0</td>\n",
       "    </tr>\n",
       "  </tbody>\n",
       "</table>\n",
       "<p>5 rows × 59 columns</p>\n",
       "</div>"
      ],
      "text/plain": [
       "   Day of Week_Mon  Day of Week_Sat  Day of Week_Sun  Day of Week_Thu  \\\n",
       "0                0                0                1                0   \n",
       "1                1                0                0                0   \n",
       "2                0                0                0                0   \n",
       "3                0                0                0                0   \n",
       "4                0                0                1                0   \n",
       "\n",
       "   Day of Week_Tue  Day of Week_Wed  Month_Jun  Month_May  Day_02  Day_03  \\\n",
       "0                0                0          1          0       0       0   \n",
       "1                0                0          1          0       0       0   \n",
       "2                0                1          1          0       0       0   \n",
       "3                1                0          1          0       0       0   \n",
       "4                0                0          1          0       0       0   \n",
       "\n",
       "   ...  Hour_14  Hour_15  Hour_16  Hour_17  Hour_18  Hour_19  Hour_20  \\\n",
       "0  ...        0        0        0        0        0        0        0   \n",
       "1  ...        0        0        0        0        0        0        0   \n",
       "2  ...        0        0        0        0        0        0        0   \n",
       "3  ...        0        0        0        0        0        0        0   \n",
       "4  ...        0        1        0        0        0        0        0   \n",
       "\n",
       "   Hour_21  Hour_22  Hour_23  \n",
       "0        0        0        0  \n",
       "1        0        1        0  \n",
       "2        0        1        0  \n",
       "3        0        0        0  \n",
       "4        0        0        0  \n",
       "\n",
       "[5 rows x 59 columns]"
      ]
     },
     "execution_count": 14,
     "metadata": {},
     "output_type": "execute_result"
    }
   ],
   "source": [
    "newtraindfdum = pd.get_dummies(newtraindf,drop_first=True)\n",
    "newtestdfdum = pd.get_dummies(newtestdf,drop_first=True)\n",
    "newtraindfdum.head()"
   ]
  },
  {
   "cell_type": "code",
   "execution_count": 15,
   "metadata": {},
   "outputs": [
    {
     "data": {
      "text/html": [
       "<div>\n",
       "<style scoped>\n",
       "    .dataframe tbody tr th:only-of-type {\n",
       "        vertical-align: middle;\n",
       "    }\n",
       "\n",
       "    .dataframe tbody tr th {\n",
       "        vertical-align: top;\n",
       "    }\n",
       "\n",
       "    .dataframe thead th {\n",
       "        text-align: right;\n",
       "    }\n",
       "</style>\n",
       "<table border=\"1\" class=\"dataframe\">\n",
       "  <thead>\n",
       "    <tr style=\"text-align: right;\">\n",
       "      <th></th>\n",
       "      <th>Day of Week_Mon</th>\n",
       "      <th>Day of Week_Sat</th>\n",
       "      <th>Day of Week_Sun</th>\n",
       "      <th>Day of Week_Thu</th>\n",
       "      <th>Day of Week_Tue</th>\n",
       "      <th>Day of Week_Wed</th>\n",
       "      <th>Month_Jun</th>\n",
       "      <th>Month_May</th>\n",
       "      <th>Day_02</th>\n",
       "      <th>Day_03</th>\n",
       "      <th>...</th>\n",
       "      <th>Hour_14</th>\n",
       "      <th>Hour_15</th>\n",
       "      <th>Hour_16</th>\n",
       "      <th>Hour_17</th>\n",
       "      <th>Hour_18</th>\n",
       "      <th>Hour_19</th>\n",
       "      <th>Hour_20</th>\n",
       "      <th>Hour_21</th>\n",
       "      <th>Hour_22</th>\n",
       "      <th>Hour_23</th>\n",
       "    </tr>\n",
       "  </thead>\n",
       "  <tbody>\n",
       "    <tr>\n",
       "      <th>0</th>\n",
       "      <td>0</td>\n",
       "      <td>0</td>\n",
       "      <td>0</td>\n",
       "      <td>0</td>\n",
       "      <td>1</td>\n",
       "      <td>0</td>\n",
       "      <td>1</td>\n",
       "      <td>0</td>\n",
       "      <td>1</td>\n",
       "      <td>0</td>\n",
       "      <td>...</td>\n",
       "      <td>0</td>\n",
       "      <td>0</td>\n",
       "      <td>0</td>\n",
       "      <td>0</td>\n",
       "      <td>0</td>\n",
       "      <td>0</td>\n",
       "      <td>0</td>\n",
       "      <td>0</td>\n",
       "      <td>1</td>\n",
       "      <td>0</td>\n",
       "    </tr>\n",
       "    <tr>\n",
       "      <th>1</th>\n",
       "      <td>1</td>\n",
       "      <td>0</td>\n",
       "      <td>0</td>\n",
       "      <td>0</td>\n",
       "      <td>0</td>\n",
       "      <td>0</td>\n",
       "      <td>1</td>\n",
       "      <td>0</td>\n",
       "      <td>0</td>\n",
       "      <td>0</td>\n",
       "      <td>...</td>\n",
       "      <td>0</td>\n",
       "      <td>0</td>\n",
       "      <td>0</td>\n",
       "      <td>0</td>\n",
       "      <td>1</td>\n",
       "      <td>0</td>\n",
       "      <td>0</td>\n",
       "      <td>0</td>\n",
       "      <td>0</td>\n",
       "      <td>0</td>\n",
       "    </tr>\n",
       "    <tr>\n",
       "      <th>2</th>\n",
       "      <td>0</td>\n",
       "      <td>0</td>\n",
       "      <td>1</td>\n",
       "      <td>0</td>\n",
       "      <td>0</td>\n",
       "      <td>0</td>\n",
       "      <td>0</td>\n",
       "      <td>1</td>\n",
       "      <td>0</td>\n",
       "      <td>1</td>\n",
       "      <td>...</td>\n",
       "      <td>0</td>\n",
       "      <td>0</td>\n",
       "      <td>0</td>\n",
       "      <td>0</td>\n",
       "      <td>0</td>\n",
       "      <td>0</td>\n",
       "      <td>0</td>\n",
       "      <td>0</td>\n",
       "      <td>1</td>\n",
       "      <td>0</td>\n",
       "    </tr>\n",
       "    <tr>\n",
       "      <th>3</th>\n",
       "      <td>0</td>\n",
       "      <td>0</td>\n",
       "      <td>0</td>\n",
       "      <td>0</td>\n",
       "      <td>0</td>\n",
       "      <td>0</td>\n",
       "      <td>0</td>\n",
       "      <td>1</td>\n",
       "      <td>0</td>\n",
       "      <td>0</td>\n",
       "      <td>...</td>\n",
       "      <td>0</td>\n",
       "      <td>0</td>\n",
       "      <td>0</td>\n",
       "      <td>0</td>\n",
       "      <td>0</td>\n",
       "      <td>0</td>\n",
       "      <td>0</td>\n",
       "      <td>0</td>\n",
       "      <td>0</td>\n",
       "      <td>0</td>\n",
       "    </tr>\n",
       "    <tr>\n",
       "      <th>4</th>\n",
       "      <td>0</td>\n",
       "      <td>0</td>\n",
       "      <td>1</td>\n",
       "      <td>0</td>\n",
       "      <td>0</td>\n",
       "      <td>0</td>\n",
       "      <td>1</td>\n",
       "      <td>0</td>\n",
       "      <td>0</td>\n",
       "      <td>0</td>\n",
       "      <td>...</td>\n",
       "      <td>0</td>\n",
       "      <td>0</td>\n",
       "      <td>0</td>\n",
       "      <td>0</td>\n",
       "      <td>0</td>\n",
       "      <td>0</td>\n",
       "      <td>0</td>\n",
       "      <td>0</td>\n",
       "      <td>0</td>\n",
       "      <td>0</td>\n",
       "    </tr>\n",
       "  </tbody>\n",
       "</table>\n",
       "<p>5 rows × 59 columns</p>\n",
       "</div>"
      ],
      "text/plain": [
       "   Day of Week_Mon  Day of Week_Sat  Day of Week_Sun  Day of Week_Thu  \\\n",
       "0                0                0                0                0   \n",
       "1                1                0                0                0   \n",
       "2                0                0                1                0   \n",
       "3                0                0                0                0   \n",
       "4                0                0                1                0   \n",
       "\n",
       "   Day of Week_Tue  Day of Week_Wed  Month_Jun  Month_May  Day_02  Day_03  \\\n",
       "0                1                0          1          0       1       0   \n",
       "1                0                0          1          0       0       0   \n",
       "2                0                0          0          1       0       1   \n",
       "3                0                0          0          1       0       0   \n",
       "4                0                0          1          0       0       0   \n",
       "\n",
       "   ...  Hour_14  Hour_15  Hour_16  Hour_17  Hour_18  Hour_19  Hour_20  \\\n",
       "0  ...        0        0        0        0        0        0        0   \n",
       "1  ...        0        0        0        0        1        0        0   \n",
       "2  ...        0        0        0        0        0        0        0   \n",
       "3  ...        0        0        0        0        0        0        0   \n",
       "4  ...        0        0        0        0        0        0        0   \n",
       "\n",
       "   Hour_21  Hour_22  Hour_23  \n",
       "0        0        1        0  \n",
       "1        0        0        0  \n",
       "2        0        1        0  \n",
       "3        0        0        0  \n",
       "4        0        0        0  \n",
       "\n",
       "[5 rows x 59 columns]"
      ]
     },
     "execution_count": 15,
     "metadata": {},
     "output_type": "execute_result"
    }
   ],
   "source": [
    "newtestdfdum.head()"
   ]
  },
  {
   "cell_type": "markdown",
   "metadata": {},
   "source": [
    "## Data Visualization"
   ]
  },
  {
   "cell_type": "markdown",
   "metadata": {},
   "source": [
    "####  Most of tweets are tweeted Sunday and least tweets are tweeted on Wednesday. "
   ]
  },
  {
   "cell_type": "code",
   "execution_count": 16,
   "metadata": {},
   "outputs": [
    {
     "data": {
      "text/plain": [
       "Text(0, 0.5, 'Count')"
      ]
     },
     "execution_count": 16,
     "metadata": {},
     "output_type": "execute_result"
    },
    {
     "data": {
      "image/png": "[encoded data removed]",
      "text/plain": [
       "<Figure size 432x288 with 1 Axes>"
      ]
     },
     "metadata": {
      "needs_background": "light"
     },
     "output_type": "display_data"
    }
   ],
   "source": [
    "byDay = traindf.groupby(by=[\"Day of Week\"])[\"Id\"].count()\n",
    "ax=byDay.sort_values(ascending=False).plot(kind='bar',colormap=\"ocean\")\n",
    "ax.set_xlabel(\"Day of Week\")\n",
    "ax.set_ylabel(\"Count\")"
   ]
  },
  {
   "cell_type": "markdown",
   "metadata": {},
   "source": [
    "####  Most of tweets are tweeted 1st, 6th and 7th days of months."
   ]
  },
  {
   "cell_type": "code",
   "execution_count": 17,
   "metadata": {},
   "outputs": [
    {
     "data": {
      "text/plain": [
       "Text(0, 0.5, 'Count')"
      ]
     },
     "execution_count": 17,
     "metadata": {},
     "output_type": "execute_result"
    },
    {
     "data": {
      "image/png": "[encoded data removed]",
      "text/plain": [
       "<Figure size 432x288 with 1 Axes>"
      ]
     },
     "metadata": {
      "needs_background": "light"
     },
     "output_type": "display_data"
    }
   ],
   "source": [
    "byDay = traindf.groupby(by=[\"Day\"])[\"Id\"].count()\n",
    "ax=byDay.sort_values(ascending=False).plot(kind='bar',colormap=\"ocean\")\n",
    "ax.set_xlabel(\"Day\")\n",
    "ax.set_ylabel(\"Count\")"
   ]
  },
  {
   "cell_type": "markdown",
   "metadata": {},
   "source": [
    "#### All tweets are tweeted in 2009."
   ]
  },
  {
   "cell_type": "code",
   "execution_count": 18,
   "metadata": {},
   "outputs": [
    {
     "data": {
      "text/plain": [
       "Text(0, 0.5, 'Count')"
      ]
     },
     "execution_count": 18,
     "metadata": {},
     "output_type": "execute_result"
    },
    {
     "data": {
      "image/png": "[encoded data removed]",
      "text/plain": [
       "<Figure size 432x288 with 1 Axes>"
      ]
     },
     "metadata": {
      "needs_background": "light"
     },
     "output_type": "display_data"
    }
   ],
   "source": [
    "byDay = traindf.groupby(by=[\"Year\"])[\"Id\"].sum()\n",
    "ax=byDay.sort_values(ascending=False).plot(kind='bar',colormap=\"ocean\",sort_columns=True)\n",
    "ax.set_xlabel(\"Year\")\n",
    "ax.set_ylabel(\"Count\")"
   ]
  },
  {
   "cell_type": "markdown",
   "metadata": {},
   "source": [
    "#### All tweets  are from April ,May and June 2009."
   ]
  },
  {
   "cell_type": "code",
   "execution_count": 19,
   "metadata": {},
   "outputs": [
    {
     "data": {
      "image/png": "[encoded data removed]",
      "text/plain": [
       "<Figure size 432x288 with 1 Axes>"
      ]
     },
     "metadata": {
      "needs_background": "light"
     },
     "output_type": "display_data"
    }
   ],
   "source": [
    "byDay = traindf.groupby(by=[\"Month\"])[\"emotion\"].sum()\n",
    "ax=byDay.sort_values(ascending=False).plot(kind='bar',colormap=\"ocean\",sort_columns=True)\n",
    "ax.set_xlabel(\"Month\")\n",
    "ax.set_ylabel(\"Count\");"
   ]
  },
  {
   "cell_type": "markdown",
   "metadata": {},
   "source": [
    "#### Different from May and April number of negative tweets are higher than positives ones in June."
   ]
  },
  {
   "cell_type": "code",
   "execution_count": 20,
   "metadata": {},
   "outputs": [
    {
     "data": {
      "text/plain": [
       "Text(0, 0.5, 'Count')"
      ]
     },
     "execution_count": 20,
     "metadata": {},
     "output_type": "execute_result"
    },
    {
     "data": {
      "image/png": "[encoded data removed]",
      "text/plain": [
       "<Figure size 432x288 with 1 Axes>"
      ]
     },
     "metadata": {
      "needs_background": "light"
     },
     "output_type": "display_data"
    }
   ],
   "source": [
    "byDay = traindf.groupby(by=[\"Month\",\"emotion\"]).count()[\"Id\"]\n",
    "ax=byDay.sort_values(ascending=False).plot(kind='bar',colormap=\"ocean\",sort_columns=True)\n",
    "ax.set_xlabel(\"Month and Emotion\")\n",
    "ax.set_ylabel(\"Count\")"
   ]
  },
  {
   "cell_type": "markdown",
   "metadata": {},
   "source": [
    "#### The number of positive and negative tweets are almost same in Fridays however there is clear difference in other days."
   ]
  },
  {
   "cell_type": "code",
   "execution_count": 21,
   "metadata": {},
   "outputs": [
    {
     "data": {
      "text/plain": [
       "Text(0, 0.5, 'Count')"
      ]
     },
     "execution_count": 21,
     "metadata": {},
     "output_type": "execute_result"
    },
    {
     "data": {
      "image/png": "[encoded data removed]",
      "text/plain": [
       "<Figure size 432x288 with 1 Axes>"
      ]
     },
     "metadata": {
      "needs_background": "light"
     },
     "output_type": "display_data"
    }
   ],
   "source": [
    "byDay = traindf.groupby(by=[\"Day of Week\",\"emotion\"]).count()[\"Id\"]\n",
    "ax=byDay.plot(kind='bar',colormap=\"ocean\",sort_columns=True)\n",
    "ax.set_xlabel(\"Month and Emotion\")\n",
    "ax.set_ylabel(\"Count\")"
   ]
  },
  {
   "cell_type": "markdown",
   "metadata": {},
   "source": [
    "#### The difference between number of positive and negative tweets is quite high for example in 20th, 23rd, 24th and 25th of the months."
   ]
  },
  {
   "cell_type": "code",
   "execution_count": 22,
   "metadata": {},
   "outputs": [
    {
     "data": {
      "text/plain": [
       "Text(0, 0.5, 'Count')"
      ]
     },
     "execution_count": 22,
     "metadata": {},
     "output_type": "execute_result"
    },
    {
     "data": {
      "image/png": "[encoded data removed]",
      "text/plain": [
       "<Figure size 1296x1296 with 1 Axes>"
      ]
     },
     "metadata": {
      "needs_background": "light"
     },
     "output_type": "display_data"
    }
   ],
   "source": [
    "byDay = traindf.groupby(by=[\"Day\",\"emotion\"]).count()[\"Id\"]\n",
    "ax=byDay.plot(kind='bar',colormap=\"ocean\",sort_columns=True, figsize=(18,18))\n",
    "ax.set_xlabel(\"Day and Emotion\")\n",
    "ax.set_ylabel(\"Count\")"
   ]
  },
  {
   "cell_type": "markdown",
   "metadata": {},
   "source": [
    "#### There is always a difference between number of positive and negative tweets in each hour."
   ]
  },
  {
   "cell_type": "code",
   "execution_count": 23,
   "metadata": {},
   "outputs": [
    {
     "data": {
      "text/plain": [
       "Text(0, 0.5, 'Count')"
      ]
     },
     "execution_count": 23,
     "metadata": {},
     "output_type": "execute_result"
    },
    {
     "data": {
      "image/png": "[encoded data removed]",
      "text/plain": [
       "<Figure size 1296x1296 with 1 Axes>"
      ]
     },
     "metadata": {
      "needs_background": "light"
     },
     "output_type": "display_data"
    }
   ],
   "source": [
    "byDay = traindf.groupby(by=[\"Hour\",\"emotion\"]).count()[\"Id\"]\n",
    "ax=byDay.plot(kind='bar',colormap=\"ocean\",sort_columns=True, figsize=(18,18))\n",
    "ax.set_xlabel(\"Hour and Emotion\")\n",
    "ax.set_ylabel(\"Count\")"
   ]
  },
  {
   "cell_type": "markdown",
   "metadata": {},
   "source": [
    "## Data Cleaning\n",
    "\n",
    "In general we will work on the text column and therefore we will remove the items which does not contribute like stopwords, tags, punctuations."
   ]
  },
  {
   "cell_type": "code",
   "execution_count": 24,
   "metadata": {},
   "outputs": [
    {
     "data": {
      "text/plain": [
       "['i', 'me', 'my', 'myself', 'we']"
      ]
     },
     "execution_count": 24,
     "metadata": {},
     "output_type": "execute_result"
    }
   ],
   "source": [
    "stop = stopwords.words('english') #stopwords in english \n",
    "stop[:5] #5 stopwords"
   ]
  },
  {
   "cell_type": "code",
   "execution_count": 25,
   "metadata": {},
   "outputs": [],
   "source": [
    "#method for removing word duplicates in each row\n",
    "def unique_list(l):\n",
    "    ulist = []\n",
    "    [ulist.append(x) for x in l if x not in ulist]\n",
    "    return ulist"
   ]
  },
  {
   "cell_type": "markdown",
   "metadata": {},
   "source": [
    "#### We are working with a dataset which is very noisy. Therefore, we built a function to remove the unnecessary parts like punctuations, stopwords, whitespaces, numbers, hashtags, usernames etc. from text column with regex methods. Each regex method has explanation comment. "
   ]
  },
  {
   "cell_type": "code",
   "execution_count": 26,
   "metadata": {},
   "outputs": [],
   "source": [
    "stop = stopwords.words('english')\n",
    "#Lemmatization\n",
    "lemmatizer = WordNetLemmatizer()\n",
    "def cleanText(data):\n",
    "    data['cleaned_text'] =data['text'].apply(lambda x: \" \".join(x.lower() for x in x.split())) #transform lowercase\n",
    "    data['cleaned_text'] =data['cleaned_text'].apply(lambda x: \" \".join(contractions.fix(x) for x in x.split())) #Fixes contractions such as `you're` to you are\n",
    "    data['cleaned_text'] =data['cleaned_text'].apply(lambda x: \" \".join(x for x in x.split() if x not in stop)) #removing stopwords\n",
    "    data['cleaned_text'] =data['cleaned_text'].apply(lambda x: \" \".join(re.sub('@[\\w]+','',x) for x in x.split())) #removing usernames @jessica42\n",
    "    data['cleaned_text'] =data['cleaned_text'].apply(lambda x: \" \".join(x for x in x.split() if not x.startswith('#')))#removin hashtags like #quoteoftheday\n",
    "    data['cleaned_text'] =data['cleaned_text'].str.replace(r'http[s]?://(?:[a-zA-Z]|[0-9]|[$-_@.&+]|[!*\\(\\),]|(?:%[0-9a-fA-F][0-9a-fA-F]))+', ' ',regex=True) #removing special characters, urls and punctuations\n",
    "    data['cleaned_text'] =data['cleaned_text'].apply(lambda x: \" \".join(re.sub('\\W+',' ',x) for x in x.split())) #separating the words which have special character inside The Hills&Band -> Hills Band\n",
    "    data['cleaned_text'] =data['cleaned_text'].str.replace(r'[^\\w\\s]','',regex=True) #removing everything except words and whitespaces\n",
    "    data['cleaned_text'] =data['cleaned_text'].apply(lambda x: \" \".join(re.sub(r'[0-9]', \" \", x) for x in x.split())) #removing numbers in words like temp42->temp\n",
    "    data['cleaned_text'] =data['cleaned_text'].apply(lambda x: \" \".join(lemmatizer.lemmatize(x) for x in x.split())) #lemmatization of words like rocks : rock\n",
    "    data['cleaned_text'] =data['cleaned_text'].apply(lambda x: \" \".join(re.sub(' +', \" \", x) for x in x.split())) #removing unnecessary whitespaces\n",
    "    data['cleaned_text'] =data['cleaned_text'].apply(lambda x: \" \".join(re.sub(r'[^\\x00-\\x7f]',r'',x) for x in x.split())) #removing non-latin characters and words\n",
    "    data['cleaned_text'] =data['cleaned_text'].str.replace('_', '',regex=True) #remove _in words like to_day->today\n",
    "    data['cleaned_text'] =data['cleaned_text'].str.replace(r'\\b(\\w{1,2})\\b',' ',regex=True) #removing strings which have less length than 3. ah,to,etc.\n",
    "    data['cleaned_text_len'] =data['cleaned_text'].apply(lambda x:len(re.findall(r'\\w+', x))) # finding length of cleaned tex column\n",
    "    data['cleaned_text'] =data['cleaned_text'].apply(lambda x: \" \".join(unique_list(x.split()))) #removing one of duplicate words in each rows\n",
    "    return data\n",
    "\n"
   ]
  },
  {
   "cell_type": "code",
   "execution_count": 27,
   "metadata": {},
   "outputs": [
    {
     "name": "stdout",
     "output_type": "stream",
     "text": [
      "Wall time: 5min 27s\n"
     ]
    }
   ],
   "source": [
    "%%time\n",
    "traindfcleaned = cleanText(traindf)\n",
    "testdfcleaned= cleanText(testdf)"
   ]
  },
  {
   "cell_type": "code",
   "execution_count": 28,
   "metadata": {},
   "outputs": [
    {
     "data": {
      "text/html": [
       "<div>\n",
       "<style scoped>\n",
       "    .dataframe tbody tr th:only-of-type {\n",
       "        vertical-align: middle;\n",
       "    }\n",
       "\n",
       "    .dataframe tbody tr th {\n",
       "        vertical-align: top;\n",
       "    }\n",
       "\n",
       "    .dataframe thead th {\n",
       "        text-align: right;\n",
       "    }\n",
       "</style>\n",
       "<table border=\"1\" class=\"dataframe\">\n",
       "  <thead>\n",
       "    <tr style=\"text-align: right;\">\n",
       "      <th></th>\n",
       "      <th>Id</th>\n",
       "      <th>emotion</th>\n",
       "      <th>tweet_id</th>\n",
       "      <th>date</th>\n",
       "      <th>lyx_query</th>\n",
       "      <th>user</th>\n",
       "      <th>text</th>\n",
       "      <th>text_len</th>\n",
       "      <th>Day of Week</th>\n",
       "      <th>Month</th>\n",
       "      <th>Day</th>\n",
       "      <th>Time</th>\n",
       "      <th>Time Zone</th>\n",
       "      <th>Year</th>\n",
       "      <th>Hour</th>\n",
       "      <th>cleaned_text</th>\n",
       "      <th>cleaned_text_len</th>\n",
       "    </tr>\n",
       "  </thead>\n",
       "  <tbody>\n",
       "    <tr>\n",
       "      <th>0</th>\n",
       "      <td>0</td>\n",
       "      <td>1</td>\n",
       "      <td>2063391019</td>\n",
       "      <td>Sun Jun 07 02:28:13 PDT 2009</td>\n",
       "      <td>NO_QUERY</td>\n",
       "      <td>BerryGurus</td>\n",
       "      <td>@BreeMe more time to play with you BlackBerry ...</td>\n",
       "      <td>9</td>\n",
       "      <td>Sun</td>\n",
       "      <td>Jun</td>\n",
       "      <td>07</td>\n",
       "      <td>02:28:13</td>\n",
       "      <td>PDT</td>\n",
       "      <td>2009</td>\n",
       "      <td>02</td>\n",
       "      <td>time play blackberry</td>\n",
       "      <td>3</td>\n",
       "    </tr>\n",
       "    <tr>\n",
       "      <th>1</th>\n",
       "      <td>1</td>\n",
       "      <td>0</td>\n",
       "      <td>2000525676</td>\n",
       "      <td>Mon Jun 01 22:18:53 PDT 2009</td>\n",
       "      <td>NO_QUERY</td>\n",
       "      <td>peterlanoie</td>\n",
       "      <td>Failed attempt at booting to a flash drive. Th...</td>\n",
       "      <td>26</td>\n",
       "      <td>Mon</td>\n",
       "      <td>Jun</td>\n",
       "      <td>01</td>\n",
       "      <td>22:18:53</td>\n",
       "      <td>PDT</td>\n",
       "      <td>2009</td>\n",
       "      <td>22</td>\n",
       "      <td>failed attempt booting flash drive switching p...</td>\n",
       "      <td>13</td>\n",
       "    </tr>\n",
       "    <tr>\n",
       "      <th>2</th>\n",
       "      <td>2</td>\n",
       "      <td>0</td>\n",
       "      <td>2218180611</td>\n",
       "      <td>Wed Jun 17 22:01:38 PDT 2009</td>\n",
       "      <td>NO_QUERY</td>\n",
       "      <td>will_tooker</td>\n",
       "      <td>@msproductions Well ain't that the truth. Wher...</td>\n",
       "      <td>26</td>\n",
       "      <td>Wed</td>\n",
       "      <td>Jun</td>\n",
       "      <td>17</td>\n",
       "      <td>22:01:38</td>\n",
       "      <td>PDT</td>\n",
       "      <td>2009</td>\n",
       "      <td>22</td>\n",
       "      <td>well truth damn auto lock disable copy paste g...</td>\n",
       "      <td>13</td>\n",
       "    </tr>\n",
       "    <tr>\n",
       "      <th>3</th>\n",
       "      <td>3</td>\n",
       "      <td>1</td>\n",
       "      <td>2190269101</td>\n",
       "      <td>Tue Jun 16 02:14:47 PDT 2009</td>\n",
       "      <td>NO_QUERY</td>\n",
       "      <td>sammutimer</td>\n",
       "      <td>@Meaghery cheers Craig - that was really sweet...</td>\n",
       "      <td>14</td>\n",
       "      <td>Tue</td>\n",
       "      <td>Jun</td>\n",
       "      <td>16</td>\n",
       "      <td>02:14:47</td>\n",
       "      <td>PDT</td>\n",
       "      <td>2009</td>\n",
       "      <td>02</td>\n",
       "      <td>cheer craig really sweet reply pumped</td>\n",
       "      <td>6</td>\n",
       "    </tr>\n",
       "    <tr>\n",
       "      <th>4</th>\n",
       "      <td>4</td>\n",
       "      <td>0</td>\n",
       "      <td>2069249490</td>\n",
       "      <td>Sun Jun 07 15:31:58 PDT 2009</td>\n",
       "      <td>NO_QUERY</td>\n",
       "      <td>ohaijustin</td>\n",
       "      <td>I was reading the tweets that got send to me w...</td>\n",
       "      <td>29</td>\n",
       "      <td>Sun</td>\n",
       "      <td>Jun</td>\n",
       "      <td>07</td>\n",
       "      <td>15:31:58</td>\n",
       "      <td>PDT</td>\n",
       "      <td>2009</td>\n",
       "      <td>15</td>\n",
       "      <td>reading tweet got send lying phone face droppe...</td>\n",
       "      <td>11</td>\n",
       "    </tr>\n",
       "  </tbody>\n",
       "</table>\n",
       "</div>"
      ],
      "text/plain": [
       "   Id  emotion    tweet_id                          date lyx_query  \\\n",
       "0   0        1  2063391019  Sun Jun 07 02:28:13 PDT 2009  NO_QUERY   \n",
       "1   1        0  2000525676  Mon Jun 01 22:18:53 PDT 2009  NO_QUERY   \n",
       "2   2        0  2218180611  Wed Jun 17 22:01:38 PDT 2009  NO_QUERY   \n",
       "3   3        1  2190269101  Tue Jun 16 02:14:47 PDT 2009  NO_QUERY   \n",
       "4   4        0  2069249490  Sun Jun 07 15:31:58 PDT 2009  NO_QUERY   \n",
       "\n",
       "          user                                               text  text_len  \\\n",
       "0   BerryGurus  @BreeMe more time to play with you BlackBerry ...         9   \n",
       "1  peterlanoie  Failed attempt at booting to a flash drive. Th...        26   \n",
       "2  will_tooker  @msproductions Well ain't that the truth. Wher...        26   \n",
       "3   sammutimer  @Meaghery cheers Craig - that was really sweet...        14   \n",
       "4   ohaijustin  I was reading the tweets that got send to me w...        29   \n",
       "\n",
       "  Day of Week Month Day      Time Time Zone  Year Hour  \\\n",
       "0         Sun   Jun  07  02:28:13       PDT  2009   02   \n",
       "1         Mon   Jun  01  22:18:53       PDT  2009   22   \n",
       "2         Wed   Jun  17  22:01:38       PDT  2009   22   \n",
       "3         Tue   Jun  16  02:14:47       PDT  2009   02   \n",
       "4         Sun   Jun  07  15:31:58       PDT  2009   15   \n",
       "\n",
       "                                        cleaned_text  cleaned_text_len  \n",
       "0                               time play blackberry                 3  \n",
       "1  failed attempt booting flash drive switching p...                13  \n",
       "2  well truth damn auto lock disable copy paste g...                13  \n",
       "3              cheer craig really sweet reply pumped                 6  \n",
       "4  reading tweet got send lying phone face droppe...                11  "
      ]
     },
     "execution_count": 28,
     "metadata": {},
     "output_type": "execute_result"
    }
   ],
   "source": [
    "traindfcleaned.head()"
   ]
  },
  {
   "cell_type": "code",
   "execution_count": 29,
   "metadata": {},
   "outputs": [
    {
     "data": {
      "text/html": [
       "<div>\n",
       "<style scoped>\n",
       "    .dataframe tbody tr th:only-of-type {\n",
       "        vertical-align: middle;\n",
       "    }\n",
       "\n",
       "    .dataframe tbody tr th {\n",
       "        vertical-align: top;\n",
       "    }\n",
       "\n",
       "    .dataframe thead th {\n",
       "        text-align: right;\n",
       "    }\n",
       "</style>\n",
       "<table border=\"1\" class=\"dataframe\">\n",
       "  <thead>\n",
       "    <tr style=\"text-align: right;\">\n",
       "      <th></th>\n",
       "      <th>Id</th>\n",
       "      <th>tweet_id</th>\n",
       "      <th>date</th>\n",
       "      <th>lyx_query</th>\n",
       "      <th>user</th>\n",
       "      <th>text</th>\n",
       "      <th>Day of Week</th>\n",
       "      <th>Month</th>\n",
       "      <th>Day</th>\n",
       "      <th>Time</th>\n",
       "      <th>Time Zone</th>\n",
       "      <th>Year</th>\n",
       "      <th>Hour</th>\n",
       "      <th>cleaned_text</th>\n",
       "      <th>cleaned_text_len</th>\n",
       "    </tr>\n",
       "  </thead>\n",
       "  <tbody>\n",
       "    <tr>\n",
       "      <th>0</th>\n",
       "      <td>0</td>\n",
       "      <td>2013329963</td>\n",
       "      <td>Tue Jun 02 22:25:12 PDT 2009</td>\n",
       "      <td>NO_QUERY</td>\n",
       "      <td>JeffreyNam</td>\n",
       "      <td>working add oil</td>\n",
       "      <td>Tue</td>\n",
       "      <td>Jun</td>\n",
       "      <td>02</td>\n",
       "      <td>22:25:12</td>\n",
       "      <td>PDT</td>\n",
       "      <td>2009</td>\n",
       "      <td>22</td>\n",
       "      <td>working add oil</td>\n",
       "      <td>3</td>\n",
       "    </tr>\n",
       "    <tr>\n",
       "      <th>1</th>\n",
       "      <td>1</td>\n",
       "      <td>1998107018</td>\n",
       "      <td>Mon Jun 01 18:00:16 PDT 2009</td>\n",
       "      <td>NO_QUERY</td>\n",
       "      <td>NKANGEL74</td>\n",
       "      <td>@KristianaNKOTB you're welcome</td>\n",
       "      <td>Mon</td>\n",
       "      <td>Jun</td>\n",
       "      <td>01</td>\n",
       "      <td>18:00:16</td>\n",
       "      <td>PDT</td>\n",
       "      <td>2009</td>\n",
       "      <td>18</td>\n",
       "      <td>welcome</td>\n",
       "      <td>1</td>\n",
       "    </tr>\n",
       "    <tr>\n",
       "      <th>2</th>\n",
       "      <td>2</td>\n",
       "      <td>1693461347</td>\n",
       "      <td>Sun May 03 22:37:21 PDT 2009</td>\n",
       "      <td>NO_QUERY</td>\n",
       "      <td>allyfish87</td>\n",
       "      <td>is going to bed, work in the morning boo but t...</td>\n",
       "      <td>Sun</td>\n",
       "      <td>May</td>\n",
       "      <td>03</td>\n",
       "      <td>22:37:21</td>\n",
       "      <td>PDT</td>\n",
       "      <td>2009</td>\n",
       "      <td>22</td>\n",
       "      <td>going bed work morning boo get see</td>\n",
       "      <td>7</td>\n",
       "    </tr>\n",
       "    <tr>\n",
       "      <th>3</th>\n",
       "      <td>3</td>\n",
       "      <td>1882992096</td>\n",
       "      <td>Fri May 22 07:49:50 PDT 2009</td>\n",
       "      <td>NO_QUERY</td>\n",
       "      <td>drcharlii</td>\n",
       "      <td>@sparky_habbo - uni &amp;amp; assignments happened...</td>\n",
       "      <td>Fri</td>\n",
       "      <td>May</td>\n",
       "      <td>22</td>\n",
       "      <td>07:49:50</td>\n",
       "      <td>PDT</td>\n",
       "      <td>2009</td>\n",
       "      <td>07</td>\n",
       "      <td>uni amp assignment happened goodnight sparkle</td>\n",
       "      <td>6</td>\n",
       "    </tr>\n",
       "    <tr>\n",
       "      <th>4</th>\n",
       "      <td>4</td>\n",
       "      <td>2266811610</td>\n",
       "      <td>Sun Jun 21 09:08:26 PDT 2009</td>\n",
       "      <td>NO_QUERY</td>\n",
       "      <td>elizuhhbef</td>\n",
       "      <td>Can't wait to have chinese food! Still disappo...</td>\n",
       "      <td>Sun</td>\n",
       "      <td>Jun</td>\n",
       "      <td>21</td>\n",
       "      <td>09:08:26</td>\n",
       "      <td>PDT</td>\n",
       "      <td>2009</td>\n",
       "      <td>09</td>\n",
       "      <td>wait chinese food still disappointed ocharleys...</td>\n",
       "      <td>10</td>\n",
       "    </tr>\n",
       "  </tbody>\n",
       "</table>\n",
       "</div>"
      ],
      "text/plain": [
       "   Id    tweet_id                          date lyx_query        user  \\\n",
       "0   0  2013329963  Tue Jun 02 22:25:12 PDT 2009  NO_QUERY  JeffreyNam   \n",
       "1   1  1998107018  Mon Jun 01 18:00:16 PDT 2009  NO_QUERY   NKANGEL74   \n",
       "2   2  1693461347  Sun May 03 22:37:21 PDT 2009  NO_QUERY  allyfish87   \n",
       "3   3  1882992096  Fri May 22 07:49:50 PDT 2009  NO_QUERY   drcharlii   \n",
       "4   4  2266811610  Sun Jun 21 09:08:26 PDT 2009  NO_QUERY  elizuhhbef   \n",
       "\n",
       "                                                text Day of Week Month Day  \\\n",
       "0                                   working add oil          Tue   Jun  02   \n",
       "1                    @KristianaNKOTB you're welcome          Mon   Jun  01   \n",
       "2  is going to bed, work in the morning boo but t...         Sun   May  03   \n",
       "3  @sparky_habbo - uni &amp; assignments happened...         Fri   May  22   \n",
       "4  Can't wait to have chinese food! Still disappo...         Sun   Jun  21   \n",
       "\n",
       "       Time Time Zone  Year Hour  \\\n",
       "0  22:25:12       PDT  2009   22   \n",
       "1  18:00:16       PDT  2009   18   \n",
       "2  22:37:21       PDT  2009   22   \n",
       "3  07:49:50       PDT  2009   07   \n",
       "4  09:08:26       PDT  2009   09   \n",
       "\n",
       "                                        cleaned_text  cleaned_text_len  \n",
       "0                                    working add oil                 3  \n",
       "1                                            welcome                 1  \n",
       "2                 going bed work morning boo get see                 7  \n",
       "3      uni amp assignment happened goodnight sparkle                 6  \n",
       "4  wait chinese food still disappointed ocharleys...                10  "
      ]
     },
     "execution_count": 29,
     "metadata": {},
     "output_type": "execute_result"
    }
   ],
   "source": [
    "testdfcleaned.head()"
   ]
  },
  {
   "cell_type": "code",
   "execution_count": 30,
   "metadata": {},
   "outputs": [
    {
     "name": "stdout",
     "output_type": "stream",
     "text": [
      "Wall time: 14.6 s\n"
     ]
    },
    {
     "data": {
      "text/plain": [
       "day       81742\n",
       "good      70059\n",
       "going     68419\n",
       "get       66416\n",
       "like      61261\n",
       "got       54727\n",
       "today     53883\n",
       "love      53473\n",
       "work      52775\n",
       "time      50596\n",
       "want      50103\n",
       "lol       44953\n",
       "back      44109\n",
       "one       43651\n",
       "know      41583\n",
       "really    37542\n",
       "see       36274\n",
       "night     34713\n",
       "amp       34448\n",
       "think     34406\n",
       "dtype: int64"
      ]
     },
     "execution_count": 30,
     "metadata": {},
     "output_type": "execute_result"
    }
   ],
   "source": [
    "%%time\n",
    "traindfcleaned[\"cleaned_text\"].str.split(expand=True).stack().value_counts()[:20]"
   ]
  },
  {
   "cell_type": "markdown",
   "metadata": {},
   "source": [
    "#### Word frequency dataframe"
   ]
  },
  {
   "cell_type": "code",
   "execution_count": 31,
   "metadata": {},
   "outputs": [
    {
     "data": {
      "text/html": [
       "<div>\n",
       "<style scoped>\n",
       "    .dataframe tbody tr th:only-of-type {\n",
       "        vertical-align: middle;\n",
       "    }\n",
       "\n",
       "    .dataframe tbody tr th {\n",
       "        vertical-align: top;\n",
       "    }\n",
       "\n",
       "    .dataframe thead th {\n",
       "        text-align: right;\n",
       "    }\n",
       "</style>\n",
       "<table border=\"1\" class=\"dataframe\">\n",
       "  <thead>\n",
       "    <tr style=\"text-align: right;\">\n",
       "      <th></th>\n",
       "      <th>Word</th>\n",
       "      <th>Frequency</th>\n",
       "    </tr>\n",
       "  </thead>\n",
       "  <tbody>\n",
       "    <tr>\n",
       "      <th>0</th>\n",
       "      <td>day</td>\n",
       "      <td>81742</td>\n",
       "    </tr>\n",
       "    <tr>\n",
       "      <th>1</th>\n",
       "      <td>good</td>\n",
       "      <td>70059</td>\n",
       "    </tr>\n",
       "    <tr>\n",
       "      <th>2</th>\n",
       "      <td>going</td>\n",
       "      <td>68419</td>\n",
       "    </tr>\n",
       "    <tr>\n",
       "      <th>3</th>\n",
       "      <td>get</td>\n",
       "      <td>66416</td>\n",
       "    </tr>\n",
       "    <tr>\n",
       "      <th>4</th>\n",
       "      <td>like</td>\n",
       "      <td>61261</td>\n",
       "    </tr>\n",
       "    <tr>\n",
       "      <th>5</th>\n",
       "      <td>got</td>\n",
       "      <td>54727</td>\n",
       "    </tr>\n",
       "    <tr>\n",
       "      <th>6</th>\n",
       "      <td>today</td>\n",
       "      <td>53883</td>\n",
       "    </tr>\n",
       "    <tr>\n",
       "      <th>7</th>\n",
       "      <td>love</td>\n",
       "      <td>53473</td>\n",
       "    </tr>\n",
       "    <tr>\n",
       "      <th>8</th>\n",
       "      <td>work</td>\n",
       "      <td>52775</td>\n",
       "    </tr>\n",
       "    <tr>\n",
       "      <th>9</th>\n",
       "      <td>time</td>\n",
       "      <td>50596</td>\n",
       "    </tr>\n",
       "    <tr>\n",
       "      <th>10</th>\n",
       "      <td>want</td>\n",
       "      <td>50103</td>\n",
       "    </tr>\n",
       "    <tr>\n",
       "      <th>11</th>\n",
       "      <td>lol</td>\n",
       "      <td>44953</td>\n",
       "    </tr>\n",
       "    <tr>\n",
       "      <th>12</th>\n",
       "      <td>back</td>\n",
       "      <td>44109</td>\n",
       "    </tr>\n",
       "    <tr>\n",
       "      <th>13</th>\n",
       "      <td>one</td>\n",
       "      <td>43651</td>\n",
       "    </tr>\n",
       "    <tr>\n",
       "      <th>14</th>\n",
       "      <td>know</td>\n",
       "      <td>41583</td>\n",
       "    </tr>\n",
       "    <tr>\n",
       "      <th>15</th>\n",
       "      <td>really</td>\n",
       "      <td>37542</td>\n",
       "    </tr>\n",
       "    <tr>\n",
       "      <th>16</th>\n",
       "      <td>see</td>\n",
       "      <td>36274</td>\n",
       "    </tr>\n",
       "    <tr>\n",
       "      <th>17</th>\n",
       "      <td>night</td>\n",
       "      <td>34713</td>\n",
       "    </tr>\n",
       "    <tr>\n",
       "      <th>18</th>\n",
       "      <td>amp</td>\n",
       "      <td>34448</td>\n",
       "    </tr>\n",
       "    <tr>\n",
       "      <th>19</th>\n",
       "      <td>think</td>\n",
       "      <td>34406</td>\n",
       "    </tr>\n",
       "    <tr>\n",
       "      <th>20</th>\n",
       "      <td>still</td>\n",
       "      <td>34251</td>\n",
       "    </tr>\n",
       "    <tr>\n",
       "      <th>21</th>\n",
       "      <td>you</td>\n",
       "      <td>33909</td>\n",
       "    </tr>\n",
       "    <tr>\n",
       "      <th>22</th>\n",
       "      <td>well</td>\n",
       "      <td>33569</td>\n",
       "    </tr>\n",
       "    <tr>\n",
       "      <th>23</th>\n",
       "      <td>would</td>\n",
       "      <td>32484</td>\n",
       "    </tr>\n",
       "    <tr>\n",
       "      <th>24</th>\n",
       "      <td>new</td>\n",
       "      <td>32472</td>\n",
       "    </tr>\n",
       "    <tr>\n",
       "      <th>25</th>\n",
       "      <td>thanks</td>\n",
       "      <td>31913</td>\n",
       "    </tr>\n",
       "    <tr>\n",
       "      <th>26</th>\n",
       "      <td>need</td>\n",
       "      <td>31884</td>\n",
       "    </tr>\n",
       "    <tr>\n",
       "      <th>27</th>\n",
       "      <td>home</td>\n",
       "      <td>31345</td>\n",
       "    </tr>\n",
       "    <tr>\n",
       "      <th>28</th>\n",
       "      <td>miss</td>\n",
       "      <td>29710</td>\n",
       "    </tr>\n",
       "    <tr>\n",
       "      <th>29</th>\n",
       "      <td>much</td>\n",
       "      <td>28954</td>\n",
       "    </tr>\n",
       "    <tr>\n",
       "      <th>30</th>\n",
       "      <td>last</td>\n",
       "      <td>28264</td>\n",
       "    </tr>\n",
       "    <tr>\n",
       "      <th>31</th>\n",
       "      <td>feel</td>\n",
       "      <td>27801</td>\n",
       "    </tr>\n",
       "    <tr>\n",
       "      <th>32</th>\n",
       "      <td>hope</td>\n",
       "      <td>27504</td>\n",
       "    </tr>\n",
       "    <tr>\n",
       "      <th>33</th>\n",
       "      <td>morning</td>\n",
       "      <td>27377</td>\n",
       "    </tr>\n",
       "    <tr>\n",
       "      <th>34</th>\n",
       "      <td>make</td>\n",
       "      <td>27307</td>\n",
       "    </tr>\n",
       "    <tr>\n",
       "      <th>35</th>\n",
       "      <td>quot</td>\n",
       "      <td>27167</td>\n",
       "    </tr>\n",
       "    <tr>\n",
       "      <th>36</th>\n",
       "      <td>tomorrow</td>\n",
       "      <td>27080</td>\n",
       "    </tr>\n",
       "    <tr>\n",
       "      <th>37</th>\n",
       "      <td>twitter</td>\n",
       "      <td>26390</td>\n",
       "    </tr>\n",
       "    <tr>\n",
       "      <th>38</th>\n",
       "      <td>great</td>\n",
       "      <td>25962</td>\n",
       "    </tr>\n",
       "    <tr>\n",
       "      <th>39</th>\n",
       "      <td>haha</td>\n",
       "      <td>24446</td>\n",
       "    </tr>\n",
       "    <tr>\n",
       "      <th>40</th>\n",
       "      <td>now</td>\n",
       "      <td>24323</td>\n",
       "    </tr>\n",
       "    <tr>\n",
       "      <th>41</th>\n",
       "      <td>wish</td>\n",
       "      <td>24098</td>\n",
       "    </tr>\n",
       "    <tr>\n",
       "      <th>42</th>\n",
       "      <td>sad</td>\n",
       "      <td>22830</td>\n",
       "    </tr>\n",
       "    <tr>\n",
       "      <th>43</th>\n",
       "      <td>come</td>\n",
       "      <td>22415</td>\n",
       "    </tr>\n",
       "    <tr>\n",
       "      <th>44</th>\n",
       "      <td>could</td>\n",
       "      <td>22354</td>\n",
       "    </tr>\n",
       "    <tr>\n",
       "      <th>45</th>\n",
       "      <td>right</td>\n",
       "      <td>22175</td>\n",
       "    </tr>\n",
       "    <tr>\n",
       "      <th>46</th>\n",
       "      <td>fun</td>\n",
       "      <td>22155</td>\n",
       "    </tr>\n",
       "    <tr>\n",
       "      <th>47</th>\n",
       "      <td>sleep</td>\n",
       "      <td>21715</td>\n",
       "    </tr>\n",
       "    <tr>\n",
       "      <th>48</th>\n",
       "      <td>week</td>\n",
       "      <td>21699</td>\n",
       "    </tr>\n",
       "    <tr>\n",
       "      <th>49</th>\n",
       "      <td>bad</td>\n",
       "      <td>21215</td>\n",
       "    </tr>\n",
       "  </tbody>\n",
       "</table>\n",
       "</div>"
      ],
      "text/plain": [
       "        Word  Frequency\n",
       "0        day      81742\n",
       "1       good      70059\n",
       "2      going      68419\n",
       "3        get      66416\n",
       "4       like      61261\n",
       "5        got      54727\n",
       "6      today      53883\n",
       "7       love      53473\n",
       "8       work      52775\n",
       "9       time      50596\n",
       "10      want      50103\n",
       "11       lol      44953\n",
       "12      back      44109\n",
       "13       one      43651\n",
       "14      know      41583\n",
       "15    really      37542\n",
       "16       see      36274\n",
       "17     night      34713\n",
       "18       amp      34448\n",
       "19     think      34406\n",
       "20     still      34251\n",
       "21       you      33909\n",
       "22      well      33569\n",
       "23     would      32484\n",
       "24       new      32472\n",
       "25    thanks      31913\n",
       "26      need      31884\n",
       "27      home      31345\n",
       "28      miss      29710\n",
       "29      much      28954\n",
       "30      last      28264\n",
       "31      feel      27801\n",
       "32      hope      27504\n",
       "33   morning      27377\n",
       "34      make      27307\n",
       "35      quot      27167\n",
       "36  tomorrow      27080\n",
       "37   twitter      26390\n",
       "38     great      25962\n",
       "39      haha      24446\n",
       "40       now      24323\n",
       "41      wish      24098\n",
       "42       sad      22830\n",
       "43      come      22415\n",
       "44     could      22354\n",
       "45     right      22175\n",
       "46       fun      22155\n",
       "47     sleep      21715\n",
       "48      week      21699\n",
       "49       bad      21215"
      ]
     },
     "execution_count": 31,
     "metadata": {},
     "output_type": "execute_result"
    }
   ],
   "source": [
    "a = traindfcleaned['cleaned_text'].str.cat(sep=' ')\n",
    "words = nltk.tokenize.word_tokenize(a)\n",
    "word_dist = nltk.FreqDist(words)\n",
    "result = pd.DataFrame(word_dist.most_common(50),\n",
    "                    columns=['Word', 'Frequency'])\n",
    "result"
   ]
  },
  {
   "cell_type": "markdown",
   "metadata": {},
   "source": [
    "#### Wordcloud of most common 50 words"
   ]
  },
  {
   "cell_type": "code",
   "execution_count": 32,
   "metadata": {},
   "outputs": [
    {
     "data": {
      "image/png": "[encoded data removed]",
      "text/plain": [
       "<Figure size 1008x1008 with 1 Axes>"
      ]
     },
     "metadata": {
      "needs_background": "light"
     },
     "output_type": "display_data"
    }
   ],
   "source": [
    "tuples = [tuple(x) for x in result.values]\n",
    "wordcloud = WordCloud().generate_from_frequencies(dict(tuples))\n",
    "\n",
    "plt.figure(figsize=(14,14))\n",
    "plt.imshow(wordcloud, interpolation=\"bilinear\")\n",
    "plt.axis(\"off\")\n",
    "plt.show()"
   ]
  },
  {
   "cell_type": "markdown",
   "metadata": {},
   "source": [
    "# Tokenization "
   ]
  },
  {
   "cell_type": "code",
   "execution_count": 33,
   "metadata": {},
   "outputs": [],
   "source": [
    "y_train = traindf[\"emotion\"] #Labels"
   ]
  },
  {
   "cell_type": "markdown",
   "metadata": {},
   "source": [
    "#### We used TFIDF tokenization for text data.\n",
    "The goal of using tf-idf instead of the raw frequencies of occurrence of a token in a given document is to scale down the impact of tokens that occur very frequently in a given corpus and that are hence empirically less informative than features that occur in a small fraction of the training corpus.\n",
    "\n",
    "Reference: https://scikit-learn.org/stable/modules/generated/sklearn.feature_extraction.text.TfidfTransformer.html#sklearn.feature_extraction.text.TfidfTransformer"
   ]
  },
  {
   "cell_type": "markdown",
   "metadata": {},
   "source": [
    "#### TFIDF vectorization for traindf text column"
   ]
  },
  {
   "cell_type": "code",
   "execution_count": 34,
   "metadata": {},
   "outputs": [
    {
     "name": "stdout",
     "output_type": "stream",
     "text": [
      "Wall time: 2min 7s\n"
     ]
    }
   ],
   "source": [
    "%%time\n",
    "tfidf = TfidfVectorizer(stop_words = 'english', analyzer=\"word\", ngram_range=(1,2))\n",
    "tfidf.fit(traindf[\"text\"])\n",
    "tfidf_train = tfidf.transform(traindf[\"text\"])\n",
    "tfidf_test = tfidf.transform(testdf[\"text\"])"
   ]
  },
  {
   "cell_type": "markdown",
   "metadata": {},
   "source": [
    "#### TFIDF vectorization for traindfcleaned cleaned_text column"
   ]
  },
  {
   "cell_type": "code",
   "execution_count": 35,
   "metadata": {},
   "outputs": [
    {
     "name": "stdout",
     "output_type": "stream",
     "text": [
      "Wall time: 1min 29s\n"
     ]
    }
   ],
   "source": [
    "%%time\n",
    "tfidf2 = TfidfVectorizer(stop_words = 'english', analyzer=\"word\", ngram_range=(1,2))\n",
    "tfidf2.fit(traindfcleaned[\"cleaned_text\"])\n",
    "tfidf_train2 = tfidf2.transform(traindfcleaned[\"cleaned_text\"])\n",
    "tfidf_test2 = tfidf2.transform(testdfcleaned[\"cleaned_text\"])"
   ]
  },
  {
   "cell_type": "code",
   "execution_count": 36,
   "metadata": {},
   "outputs": [
    {
     "name": "stdout",
     "output_type": "stream",
     "text": [
      "(1280000, 4573594)\n",
      "(320000, 4573594)\n"
     ]
    }
   ],
   "source": [
    "print(tfidf_train.shape)\n",
    "print(tfidf_test.shape)"
   ]
  },
  {
   "cell_type": "code",
   "execution_count": 37,
   "metadata": {},
   "outputs": [
    {
     "name": "stdout",
     "output_type": "stream",
     "text": [
      "<bound method BaseEstimator.get_params of TfidfVectorizer(ngram_range=(1, 2), stop_words='english')>\n"
     ]
    }
   ],
   "source": [
    "print(tfidf.get_params)"
   ]
  },
  {
   "cell_type": "code",
   "execution_count": 38,
   "metadata": {},
   "outputs": [
    {
     "name": "stdout",
     "output_type": "stream",
     "text": [
      "(1280000, 2993773)\n",
      "(320000, 2993773)\n"
     ]
    }
   ],
   "source": [
    "print(tfidf_train2.shape)\n",
    "print(tfidf_test2.shape)"
   ]
  },
  {
   "cell_type": "markdown",
   "metadata": {},
   "source": [
    "#### In order to concatenate with TFIDF sparse matrix we changed dummified numerical columns to sparse matrix."
   ]
  },
  {
   "cell_type": "code",
   "execution_count": 39,
   "metadata": {},
   "outputs": [
    {
     "data": {
      "text/html": [
       "<div>\n",
       "<style scoped>\n",
       "    .dataframe tbody tr th:only-of-type {\n",
       "        vertical-align: middle;\n",
       "    }\n",
       "\n",
       "    .dataframe tbody tr th {\n",
       "        vertical-align: top;\n",
       "    }\n",
       "\n",
       "    .dataframe thead th {\n",
       "        text-align: right;\n",
       "    }\n",
       "</style>\n",
       "<table border=\"1\" class=\"dataframe\">\n",
       "  <thead>\n",
       "    <tr style=\"text-align: right;\">\n",
       "      <th></th>\n",
       "      <th>Day of Week_Mon</th>\n",
       "      <th>Day of Week_Sat</th>\n",
       "      <th>Day of Week_Sun</th>\n",
       "      <th>Day of Week_Thu</th>\n",
       "      <th>Day of Week_Tue</th>\n",
       "      <th>Day of Week_Wed</th>\n",
       "      <th>Month_Jun</th>\n",
       "      <th>Month_May</th>\n",
       "      <th>Day_02</th>\n",
       "      <th>Day_03</th>\n",
       "      <th>...</th>\n",
       "      <th>Hour_14</th>\n",
       "      <th>Hour_15</th>\n",
       "      <th>Hour_16</th>\n",
       "      <th>Hour_17</th>\n",
       "      <th>Hour_18</th>\n",
       "      <th>Hour_19</th>\n",
       "      <th>Hour_20</th>\n",
       "      <th>Hour_21</th>\n",
       "      <th>Hour_22</th>\n",
       "      <th>Hour_23</th>\n",
       "    </tr>\n",
       "  </thead>\n",
       "  <tbody>\n",
       "    <tr>\n",
       "      <th>0</th>\n",
       "      <td>0.0</td>\n",
       "      <td>0.0</td>\n",
       "      <td>1.0</td>\n",
       "      <td>0.0</td>\n",
       "      <td>0.0</td>\n",
       "      <td>0.0</td>\n",
       "      <td>1.0</td>\n",
       "      <td>0.0</td>\n",
       "      <td>0.0</td>\n",
       "      <td>0.0</td>\n",
       "      <td>...</td>\n",
       "      <td>0.0</td>\n",
       "      <td>0.0</td>\n",
       "      <td>0.0</td>\n",
       "      <td>0.0</td>\n",
       "      <td>0.0</td>\n",
       "      <td>0.0</td>\n",
       "      <td>0.0</td>\n",
       "      <td>0.0</td>\n",
       "      <td>0.0</td>\n",
       "      <td>0.0</td>\n",
       "    </tr>\n",
       "    <tr>\n",
       "      <th>1</th>\n",
       "      <td>1.0</td>\n",
       "      <td>0.0</td>\n",
       "      <td>0.0</td>\n",
       "      <td>0.0</td>\n",
       "      <td>0.0</td>\n",
       "      <td>0.0</td>\n",
       "      <td>1.0</td>\n",
       "      <td>0.0</td>\n",
       "      <td>0.0</td>\n",
       "      <td>0.0</td>\n",
       "      <td>...</td>\n",
       "      <td>0.0</td>\n",
       "      <td>0.0</td>\n",
       "      <td>0.0</td>\n",
       "      <td>0.0</td>\n",
       "      <td>0.0</td>\n",
       "      <td>0.0</td>\n",
       "      <td>0.0</td>\n",
       "      <td>0.0</td>\n",
       "      <td>1.0</td>\n",
       "      <td>0.0</td>\n",
       "    </tr>\n",
       "    <tr>\n",
       "      <th>2</th>\n",
       "      <td>0.0</td>\n",
       "      <td>0.0</td>\n",
       "      <td>0.0</td>\n",
       "      <td>0.0</td>\n",
       "      <td>0.0</td>\n",
       "      <td>1.0</td>\n",
       "      <td>1.0</td>\n",
       "      <td>0.0</td>\n",
       "      <td>0.0</td>\n",
       "      <td>0.0</td>\n",
       "      <td>...</td>\n",
       "      <td>0.0</td>\n",
       "      <td>0.0</td>\n",
       "      <td>0.0</td>\n",
       "      <td>0.0</td>\n",
       "      <td>0.0</td>\n",
       "      <td>0.0</td>\n",
       "      <td>0.0</td>\n",
       "      <td>0.0</td>\n",
       "      <td>1.0</td>\n",
       "      <td>0.0</td>\n",
       "    </tr>\n",
       "    <tr>\n",
       "      <th>3</th>\n",
       "      <td>0.0</td>\n",
       "      <td>0.0</td>\n",
       "      <td>0.0</td>\n",
       "      <td>0.0</td>\n",
       "      <td>1.0</td>\n",
       "      <td>0.0</td>\n",
       "      <td>1.0</td>\n",
       "      <td>0.0</td>\n",
       "      <td>0.0</td>\n",
       "      <td>0.0</td>\n",
       "      <td>...</td>\n",
       "      <td>0.0</td>\n",
       "      <td>0.0</td>\n",
       "      <td>0.0</td>\n",
       "      <td>0.0</td>\n",
       "      <td>0.0</td>\n",
       "      <td>0.0</td>\n",
       "      <td>0.0</td>\n",
       "      <td>0.0</td>\n",
       "      <td>0.0</td>\n",
       "      <td>0.0</td>\n",
       "    </tr>\n",
       "    <tr>\n",
       "      <th>4</th>\n",
       "      <td>0.0</td>\n",
       "      <td>0.0</td>\n",
       "      <td>1.0</td>\n",
       "      <td>0.0</td>\n",
       "      <td>0.0</td>\n",
       "      <td>0.0</td>\n",
       "      <td>1.0</td>\n",
       "      <td>0.0</td>\n",
       "      <td>0.0</td>\n",
       "      <td>0.0</td>\n",
       "      <td>...</td>\n",
       "      <td>0.0</td>\n",
       "      <td>1.0</td>\n",
       "      <td>0.0</td>\n",
       "      <td>0.0</td>\n",
       "      <td>0.0</td>\n",
       "      <td>0.0</td>\n",
       "      <td>0.0</td>\n",
       "      <td>0.0</td>\n",
       "      <td>0.0</td>\n",
       "      <td>0.0</td>\n",
       "    </tr>\n",
       "  </tbody>\n",
       "</table>\n",
       "<p>5 rows × 59 columns</p>\n",
       "</div>"
      ],
      "text/plain": [
       "   Day of Week_Mon  Day of Week_Sat  Day of Week_Sun  Day of Week_Thu  \\\n",
       "0              0.0              0.0              1.0              0.0   \n",
       "1              1.0              0.0              0.0              0.0   \n",
       "2              0.0              0.0              0.0              0.0   \n",
       "3              0.0              0.0              0.0              0.0   \n",
       "4              0.0              0.0              1.0              0.0   \n",
       "\n",
       "   Day of Week_Tue  Day of Week_Wed  Month_Jun  Month_May  Day_02  Day_03  \\\n",
       "0              0.0              0.0        1.0        0.0     0.0     0.0   \n",
       "1              0.0              0.0        1.0        0.0     0.0     0.0   \n",
       "2              0.0              1.0        1.0        0.0     0.0     0.0   \n",
       "3              1.0              0.0        1.0        0.0     0.0     0.0   \n",
       "4              0.0              0.0        1.0        0.0     0.0     0.0   \n",
       "\n",
       "   ...  Hour_14  Hour_15  Hour_16  Hour_17  Hour_18  Hour_19  Hour_20  \\\n",
       "0  ...      0.0      0.0      0.0      0.0      0.0      0.0      0.0   \n",
       "1  ...      0.0      0.0      0.0      0.0      0.0      0.0      0.0   \n",
       "2  ...      0.0      0.0      0.0      0.0      0.0      0.0      0.0   \n",
       "3  ...      0.0      0.0      0.0      0.0      0.0      0.0      0.0   \n",
       "4  ...      0.0      1.0      0.0      0.0      0.0      0.0      0.0   \n",
       "\n",
       "   Hour_21  Hour_22  Hour_23  \n",
       "0      0.0      0.0      0.0  \n",
       "1      0.0      1.0      0.0  \n",
       "2      0.0      1.0      0.0  \n",
       "3      0.0      0.0      0.0  \n",
       "4      0.0      0.0      0.0  \n",
       "\n",
       "[5 rows x 59 columns]"
      ]
     },
     "execution_count": 39,
     "metadata": {},
     "output_type": "execute_result"
    }
   ],
   "source": [
    "newTrainSparse = newtraindfdum.astype(pd.SparseDtype())\n",
    "newTestSparse = newtestdfdum.astype(pd.SparseDtype())\n",
    "newTrainSparse.head()"
   ]
  },
  {
   "cell_type": "code",
   "execution_count": 40,
   "metadata": {},
   "outputs": [
    {
     "data": {
      "text/html": [
       "<div>\n",
       "<style scoped>\n",
       "    .dataframe tbody tr th:only-of-type {\n",
       "        vertical-align: middle;\n",
       "    }\n",
       "\n",
       "    .dataframe tbody tr th {\n",
       "        vertical-align: top;\n",
       "    }\n",
       "\n",
       "    .dataframe thead th {\n",
       "        text-align: right;\n",
       "    }\n",
       "</style>\n",
       "<table border=\"1\" class=\"dataframe\">\n",
       "  <thead>\n",
       "    <tr style=\"text-align: right;\">\n",
       "      <th></th>\n",
       "      <th>Day of Week_Mon</th>\n",
       "      <th>Day of Week_Sat</th>\n",
       "      <th>Day of Week_Sun</th>\n",
       "      <th>Day of Week_Thu</th>\n",
       "      <th>Day of Week_Tue</th>\n",
       "      <th>Day of Week_Wed</th>\n",
       "      <th>Month_Jun</th>\n",
       "      <th>Month_May</th>\n",
       "      <th>Day_02</th>\n",
       "      <th>Day_03</th>\n",
       "      <th>...</th>\n",
       "      <th>Hour_14</th>\n",
       "      <th>Hour_15</th>\n",
       "      <th>Hour_16</th>\n",
       "      <th>Hour_17</th>\n",
       "      <th>Hour_18</th>\n",
       "      <th>Hour_19</th>\n",
       "      <th>Hour_20</th>\n",
       "      <th>Hour_21</th>\n",
       "      <th>Hour_22</th>\n",
       "      <th>Hour_23</th>\n",
       "    </tr>\n",
       "  </thead>\n",
       "  <tbody>\n",
       "    <tr>\n",
       "      <th>0</th>\n",
       "      <td>0.0</td>\n",
       "      <td>0.0</td>\n",
       "      <td>0.0</td>\n",
       "      <td>0.0</td>\n",
       "      <td>1.0</td>\n",
       "      <td>0.0</td>\n",
       "      <td>1.0</td>\n",
       "      <td>0.0</td>\n",
       "      <td>1.0</td>\n",
       "      <td>0.0</td>\n",
       "      <td>...</td>\n",
       "      <td>0.0</td>\n",
       "      <td>0.0</td>\n",
       "      <td>0.0</td>\n",
       "      <td>0.0</td>\n",
       "      <td>0.0</td>\n",
       "      <td>0.0</td>\n",
       "      <td>0.0</td>\n",
       "      <td>0.0</td>\n",
       "      <td>1.0</td>\n",
       "      <td>0.0</td>\n",
       "    </tr>\n",
       "    <tr>\n",
       "      <th>1</th>\n",
       "      <td>1.0</td>\n",
       "      <td>0.0</td>\n",
       "      <td>0.0</td>\n",
       "      <td>0.0</td>\n",
       "      <td>0.0</td>\n",
       "      <td>0.0</td>\n",
       "      <td>1.0</td>\n",
       "      <td>0.0</td>\n",
       "      <td>0.0</td>\n",
       "      <td>0.0</td>\n",
       "      <td>...</td>\n",
       "      <td>0.0</td>\n",
       "      <td>0.0</td>\n",
       "      <td>0.0</td>\n",
       "      <td>0.0</td>\n",
       "      <td>1.0</td>\n",
       "      <td>0.0</td>\n",
       "      <td>0.0</td>\n",
       "      <td>0.0</td>\n",
       "      <td>0.0</td>\n",
       "      <td>0.0</td>\n",
       "    </tr>\n",
       "    <tr>\n",
       "      <th>2</th>\n",
       "      <td>0.0</td>\n",
       "      <td>0.0</td>\n",
       "      <td>1.0</td>\n",
       "      <td>0.0</td>\n",
       "      <td>0.0</td>\n",
       "      <td>0.0</td>\n",
       "      <td>0.0</td>\n",
       "      <td>1.0</td>\n",
       "      <td>0.0</td>\n",
       "      <td>1.0</td>\n",
       "      <td>...</td>\n",
       "      <td>0.0</td>\n",
       "      <td>0.0</td>\n",
       "      <td>0.0</td>\n",
       "      <td>0.0</td>\n",
       "      <td>0.0</td>\n",
       "      <td>0.0</td>\n",
       "      <td>0.0</td>\n",
       "      <td>0.0</td>\n",
       "      <td>1.0</td>\n",
       "      <td>0.0</td>\n",
       "    </tr>\n",
       "    <tr>\n",
       "      <th>3</th>\n",
       "      <td>0.0</td>\n",
       "      <td>0.0</td>\n",
       "      <td>0.0</td>\n",
       "      <td>0.0</td>\n",
       "      <td>0.0</td>\n",
       "      <td>0.0</td>\n",
       "      <td>0.0</td>\n",
       "      <td>1.0</td>\n",
       "      <td>0.0</td>\n",
       "      <td>0.0</td>\n",
       "      <td>...</td>\n",
       "      <td>0.0</td>\n",
       "      <td>0.0</td>\n",
       "      <td>0.0</td>\n",
       "      <td>0.0</td>\n",
       "      <td>0.0</td>\n",
       "      <td>0.0</td>\n",
       "      <td>0.0</td>\n",
       "      <td>0.0</td>\n",
       "      <td>0.0</td>\n",
       "      <td>0.0</td>\n",
       "    </tr>\n",
       "    <tr>\n",
       "      <th>4</th>\n",
       "      <td>0.0</td>\n",
       "      <td>0.0</td>\n",
       "      <td>1.0</td>\n",
       "      <td>0.0</td>\n",
       "      <td>0.0</td>\n",
       "      <td>0.0</td>\n",
       "      <td>1.0</td>\n",
       "      <td>0.0</td>\n",
       "      <td>0.0</td>\n",
       "      <td>0.0</td>\n",
       "      <td>...</td>\n",
       "      <td>0.0</td>\n",
       "      <td>0.0</td>\n",
       "      <td>0.0</td>\n",
       "      <td>0.0</td>\n",
       "      <td>0.0</td>\n",
       "      <td>0.0</td>\n",
       "      <td>0.0</td>\n",
       "      <td>0.0</td>\n",
       "      <td>0.0</td>\n",
       "      <td>0.0</td>\n",
       "    </tr>\n",
       "  </tbody>\n",
       "</table>\n",
       "<p>5 rows × 59 columns</p>\n",
       "</div>"
      ],
      "text/plain": [
       "   Day of Week_Mon  Day of Week_Sat  Day of Week_Sun  Day of Week_Thu  \\\n",
       "0              0.0              0.0              0.0              0.0   \n",
       "1              1.0              0.0              0.0              0.0   \n",
       "2              0.0              0.0              1.0              0.0   \n",
       "3              0.0              0.0              0.0              0.0   \n",
       "4              0.0              0.0              1.0              0.0   \n",
       "\n",
       "   Day of Week_Tue  Day of Week_Wed  Month_Jun  Month_May  Day_02  Day_03  \\\n",
       "0              1.0              0.0        1.0        0.0     1.0     0.0   \n",
       "1              0.0              0.0        1.0        0.0     0.0     0.0   \n",
       "2              0.0              0.0        0.0        1.0     0.0     1.0   \n",
       "3              0.0              0.0        0.0        1.0     0.0     0.0   \n",
       "4              0.0              0.0        1.0        0.0     0.0     0.0   \n",
       "\n",
       "   ...  Hour_14  Hour_15  Hour_16  Hour_17  Hour_18  Hour_19  Hour_20  \\\n",
       "0  ...      0.0      0.0      0.0      0.0      0.0      0.0      0.0   \n",
       "1  ...      0.0      0.0      0.0      0.0      1.0      0.0      0.0   \n",
       "2  ...      0.0      0.0      0.0      0.0      0.0      0.0      0.0   \n",
       "3  ...      0.0      0.0      0.0      0.0      0.0      0.0      0.0   \n",
       "4  ...      0.0      0.0      0.0      0.0      0.0      0.0      0.0   \n",
       "\n",
       "   Hour_21  Hour_22  Hour_23  \n",
       "0      0.0      1.0      0.0  \n",
       "1      0.0      0.0      0.0  \n",
       "2      0.0      1.0      0.0  \n",
       "3      0.0      0.0      0.0  \n",
       "4      0.0      0.0      0.0  \n",
       "\n",
       "[5 rows x 59 columns]"
      ]
     },
     "execution_count": 40,
     "metadata": {},
     "output_type": "execute_result"
    }
   ],
   "source": [
    "newTestSparse.head()"
   ]
  },
  {
   "cell_type": "markdown",
   "metadata": {},
   "source": [
    "#### Concatenation of TFIDF sparse matrix with numerical sparse matrix"
   ]
  },
  {
   "cell_type": "markdown",
   "metadata": {},
   "source": [
    "#### Concatenation with text column"
   ]
  },
  {
   "cell_type": "code",
   "execution_count": 41,
   "metadata": {},
   "outputs": [],
   "source": [
    "newtfidf_train = hstack([tfidf_train,newTrainSparse])\n",
    "newtfidf_test = hstack([tfidf_test,newTestSparse])"
   ]
  },
  {
   "cell_type": "markdown",
   "metadata": {},
   "source": [
    "#### Concatenation with cleaned text column"
   ]
  },
  {
   "cell_type": "code",
   "execution_count": 42,
   "metadata": {},
   "outputs": [],
   "source": [
    "newtfidf_train2 = hstack([tfidf_train2,newTrainSparse])\n",
    "newtfidf_test2 = hstack([tfidf_test2,newTestSparse])"
   ]
  },
  {
   "cell_type": "markdown",
   "metadata": {},
   "source": [
    "# Implementation of Machine Learning Algortihms"
   ]
  },
  {
   "cell_type": "markdown",
   "metadata": {},
   "source": [
    "Lasso regularized logistic regression and linear support vector classifier are used for the project and presented below. The rationale behind using those algorithms are the following:\n",
    "\n",
    "1) They can be used with the sparse matrix data, which is not the case with other algorithms, such as neural networks. <br>\n",
    "2) They required relatively small time to be fitted on the data compared to other algorithms (not included in notebook) like k nearest neighbors and random forest classifier which took a lot of time to run but did not finish even after several hours. <br>\n",
    "3) These two algorithms taught in Machine Learning class.<br>\n"
   ]
  },
  {
   "cell_type": "markdown",
   "metadata": {},
   "source": [
    "#### Before each submission to Kaggle we splitted train data into train and test to assess algorithms accuracy levels."
   ]
  },
  {
   "cell_type": "code",
   "execution_count": 43,
   "metadata": {},
   "outputs": [],
   "source": [
    "y_train = traindf[\"emotion\"] #labels"
   ]
  },
  {
   "cell_type": "code",
   "execution_count": 47,
   "metadata": {},
   "outputs": [
    {
     "data": {
      "text/plain": [
       "dict_keys(['C', 'class_weight', 'dual', 'fit_intercept', 'intercept_scaling', 'l1_ratio', 'max_iter', 'multi_class', 'n_jobs', 'penalty', 'random_state', 'solver', 'tol', 'verbose', 'warm_start'])"
      ]
     },
     "execution_count": 47,
     "metadata": {},
     "output_type": "execute_result"
    }
   ],
   "source": [
    "LogisticRegression().get_params().keys()"
   ]
  },
  {
   "cell_type": "code",
   "execution_count": 48,
   "metadata": {},
   "outputs": [
    {
     "data": {
      "text/plain": [
       "dict_keys(['C', 'class_weight', 'dual', 'fit_intercept', 'intercept_scaling', 'loss', 'max_iter', 'multi_class', 'penalty', 'random_state', 'tol', 'verbose'])"
      ]
     },
     "execution_count": 48,
     "metadata": {},
     "output_type": "execute_result"
    }
   ],
   "source": [
    "LinearSVC().get_params().keys()"
   ]
  },
  {
   "cell_type": "markdown",
   "metadata": {},
   "source": [
    "#### Train and test split on training data which concatenated with expanded date column."
   ]
  },
  {
   "cell_type": "code",
   "execution_count": 49,
   "metadata": {},
   "outputs": [],
   "source": [
    "X_train,X_test,y_train2,y_test = train_test_split(newtfidf_train,y_train,test_size=0.2,random_state=42,shuffle=True)"
   ]
  },
  {
   "cell_type": "markdown",
   "metadata": {},
   "source": [
    "### Cross Validation"
   ]
  },
  {
   "cell_type": "code",
   "execution_count": 52,
   "metadata": {},
   "outputs": [
    {
     "data": {
      "text/plain": [
       "{'C': array([0.1, 0.2, 0.3, 0.4, 0.5, 0.6, 0.7, 0.8, 0.9])}"
      ]
     },
     "execution_count": 52,
     "metadata": {},
     "output_type": "execute_result"
    }
   ],
   "source": [
    "features = np.arange(1,10, 1)/10\n",
    "params_svc= {\"C\": features}\n",
    "params_svc"
   ]
  },
  {
   "cell_type": "markdown",
   "metadata": {},
   "source": [
    "#### Cross validation for C parameters in LinearSVC\n",
    "Warning: This cell is computationally costly we suggest instead of running this cell directly run the cell with best parameters. LinearSVC(C=0.3)"
   ]
  },
  {
   "cell_type": "code",
   "execution_count": 53,
   "metadata": {},
   "outputs": [],
   "source": [
    "folds = KFold(n_splits = 5, random_state=42, shuffle=True)\n",
    "\n",
    "LinCV = GridSearchCV(\n",
    "    estimator=LinearSVC(),\n",
    "    param_grid={\"C\": features},\n",
    "    scoring=\"accuracy\",\n",
    "    cv=folds, n_jobs=-2\n",
    ")"
   ]
  },
  {
   "cell_type": "code",
   "execution_count": 54,
   "metadata": {},
   "outputs": [
    {
     "data": {
      "text/plain": [
       "<bound method BaseEstimator.get_params of LinearSVC(C=0.3)>"
      ]
     },
     "execution_count": 54,
     "metadata": {},
     "output_type": "execute_result"
    }
   ],
   "source": [
    "LinCV.fit(X_train, y_train2)\n",
    "LinCVBest = LinCV.best_estimator_\n",
    "LinCVBest.get_params"
   ]
  },
  {
   "cell_type": "code",
   "execution_count": 56,
   "metadata": {},
   "outputs": [
    {
     "data": {
      "text/plain": [
       "0.82530859375"
      ]
     },
     "execution_count": 56,
     "metadata": {},
     "output_type": "execute_result"
    }
   ],
   "source": [
    "clf = LinearSVC(C=0.3)\n",
    "clf.fit(X_train, y_train2)\n",
    "y_pred = clf.predict(X_test)\n",
    "accuracy_score(y_test,y_pred)"
   ]
  },
  {
   "cell_type": "markdown",
   "metadata": {},
   "source": [
    "#### Cross validation for C parameters in Logistic Regression\n",
    "Warning: This cell is computationally costly we suggest instead of running this cell directly run the cell with best parameters. LogisticRegression(C=0.9, max_iter=1000, penalty='l1', solver='liblinear')"
   ]
  },
  {
   "cell_type": "code",
   "execution_count": 59,
   "metadata": {},
   "outputs": [],
   "source": [
    "folds = KFold(n_splits = 5, random_state=42, shuffle=True)\n",
    "\n",
    "LogRegCV = GridSearchCV(\n",
    "    estimator=LogisticRegression(max_iter=1000,solver=\"liblinear\",penalty='l1'),\n",
    "    param_grid={\"C\": features},\n",
    "    scoring=\"accuracy\",\n",
    "    cv=folds, n_jobs=-2\n",
    ")"
   ]
  },
  {
   "cell_type": "code",
   "execution_count": 60,
   "metadata": {},
   "outputs": [
    {
     "data": {
      "text/plain": [
       "<bound method BaseEstimator.get_params of LogisticRegression(C=0.9, max_iter=1000, penalty='l1', solver='liblinear')>"
      ]
     },
     "execution_count": 60,
     "metadata": {},
     "output_type": "execute_result"
    }
   ],
   "source": [
    "LogRegCV.fit(X_train, y_train2)\n",
    "LogRegCVBest = LogRegCV.best_estimator_\n",
    "LogRegCVBest.get_params"
   ]
  },
  {
   "cell_type": "code",
   "execution_count": 61,
   "metadata": {},
   "outputs": [
    {
     "data": {
      "text/plain": [
       "0.82090234375"
      ]
     },
     "execution_count": 61,
     "metadata": {},
     "output_type": "execute_result"
    }
   ],
   "source": [
    "clf = LogisticRegression(C=0.9, max_iter=1000, penalty='l1', solver='liblinear')\n",
    "clf.fit(X_train, y_train2)\n",
    "y_pred = clf.predict(X_test)\n",
    "accuracy_score(y_test,y_pred)"
   ]
  },
  {
   "cell_type": "markdown",
   "metadata": {},
   "source": [
    "#### Train and test split on cleaned training data which concatenated with expanded date column."
   ]
  },
  {
   "cell_type": "code",
   "execution_count": 63,
   "metadata": {},
   "outputs": [],
   "source": [
    "X_train,X_test,y_train2,y_test = train_test_split(newtfidf_train2,y_train,test_size=0.2,random_state=42,shuffle=True)"
   ]
  },
  {
   "cell_type": "markdown",
   "metadata": {},
   "source": [
    "#### Fitting LinearSVC on cleaned train data. "
   ]
  },
  {
   "cell_type": "code",
   "execution_count": 64,
   "metadata": {},
   "outputs": [
    {
     "data": {
      "text/plain": [
       "0.8126015625"
      ]
     },
     "execution_count": 64,
     "metadata": {},
     "output_type": "execute_result"
    }
   ],
   "source": [
    "clf = LinearSVC(C=0.3)\n",
    "clf.fit(X_train, y_train2)\n",
    "y_pred = clf.predict(X_test)\n",
    "accuracy_score(y_test,y_pred)"
   ]
  },
  {
   "cell_type": "markdown",
   "metadata": {},
   "source": [
    "#### Fitting Logistic Regression on cleaned train data. "
   ]
  },
  {
   "cell_type": "code",
   "execution_count": 65,
   "metadata": {},
   "outputs": [
    {
     "data": {
      "text/plain": [
       "0.81188671875"
      ]
     },
     "execution_count": 65,
     "metadata": {},
     "output_type": "execute_result"
    }
   ],
   "source": [
    "clf = LogisticRegression(C=0.9, max_iter=1000, penalty='l1', solver='liblinear')\n",
    "clf.fit(X_train, y_train2)\n",
    "y_pred = clf.predict(X_test)\n",
    "accuracy_score(y_test,y_pred)"
   ]
  },
  {
   "cell_type": "markdown",
   "metadata": {},
   "source": [
    "#### Final fitting and prediction with best classifier"
   ]
  },
  {
   "cell_type": "code",
   "execution_count": 70,
   "metadata": {},
   "outputs": [
    {
     "name": "stdout",
     "output_type": "stream",
     "text": [
      "Wall time: 37.7 s\n"
     ]
    }
   ],
   "source": [
    "%%time\n",
    "clf = LinearSVC(C=0.3)\n",
    "clf.fit(newtfidf_train, y_train)\n",
    "y_predfinal = clf.predict(newtfidf_test)"
   ]
  },
  {
   "cell_type": "markdown",
   "metadata": {},
   "source": [
    "#### Submission Dataframe"
   ]
  },
  {
   "cell_type": "code",
   "execution_count": 71,
   "metadata": {},
   "outputs": [
    {
     "name": "stdout",
     "output_type": "stream",
     "text": [
      "    Id  emotion\n",
      "1    1        1\n",
      "2    2        0\n",
      "3    3        0\n",
      "4    4        0\n",
      "5    5        1\n",
      "6    6        1\n",
      "7    7        0\n",
      "8    8        1\n",
      "9    9        0\n",
      "10  10        0\n",
      "11  11        0\n",
      "12  12        0\n",
      "13  13        0\n",
      "14  14        0\n",
      "15  15        1\n",
      "16  16        0\n",
      "17  17        1\n",
      "18  18        0\n",
      "19  19        1\n"
     ]
    },
    {
     "data": {
      "text/plain": [
       "(320000, 2)"
      ]
     },
     "execution_count": 71,
     "metadata": {},
     "output_type": "execute_result"
    }
   ],
   "source": [
    "submission = pd.DataFrame(y_predfinal)\n",
    "submission[\"Id\"] = submission.index\n",
    "submission = submission.rename({0: \"emotion\"}, axis=1)\n",
    "submission = submission[[\"Id\",\"emotion\"]]\n",
    "print(submission[1:20])\n",
    "submission.shape\n"
   ]
  },
  {
   "cell_type": "code",
   "execution_count": 72,
   "metadata": {},
   "outputs": [],
   "source": [
    "submission.to_csv('submission25.csv', index=False) "
   ]
  },
  {
   "cell_type": "markdown",
   "metadata": {},
   "source": [
    "# Conclusion"
   ]
  },
  {
   "cell_type": "markdown",
   "metadata": {},
   "source": [
    "After completing all the steps in content of notebook we reached the following results. \n",
    "\n",
    "- We used two main classification algorithms which are Logistic Regression and LinearSVC.\n",
    "- Tfidf vectorizer used with n_range=(1,2). \n",
    "- The highest accuracy we got from test set provided was 0.8253 from LinearSVC(C=0.3) and 0.8209 LogisticRegression(C=0.9, max_iter=1000, penalty='l1', solver='liblinear')algorithm.However the text column we used was from the original training set without cleaning but with expanded date column features.\n",
    "- After using the cleaned_text column with expanded date column features from traindfcleaned we got accuracy 0.8126 from LinearSVC and 0.8118 from Logisitic Regression.\n",
    "- We used 5-Fold cross validation for tuning C hyperparameter.\n",
    "- We used dummified expanded date columns as predictor variables.\n",
    "- When we compare the results from training data(train-test split results) and kaggle submission we saw that the results were close. Therefore, before each submission we assessed the performance of the each algorithm.\n"
   ]
  },
  {
   "cell_type": "code",
   "execution_count": null,
   "metadata": {},
   "outputs": [],
   "source": []
  }
 ],
 "metadata": {
  "kernelspec": {
   "display_name": "Python 3",
   "language": "python",
   "name": "python3"
  },
  "language_info": {
   "codemirror_mode": {
    "name": "ipython",
    "version": 3
   },
   "file_extension": ".py",
   "mimetype": "text/x-python",
   "name": "python",
   "nbconvert_exporter": "python",
   "pygments_lexer": "ipython3",
   "version": "3.8.3"
  }
 },
 "nbformat": 4,
 "nbformat_minor": 5
}
